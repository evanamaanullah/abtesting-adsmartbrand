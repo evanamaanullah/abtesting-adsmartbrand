{
  "cells": [
    {
      "cell_type": "code",
      "execution_count": null,
      "metadata": {
        "id": "sfH-hh3fJiN7"
      },
      "outputs": [],
      "source": [
        "# load packages\n",
        "import matplotlib.pyplot as plt\n",
        "import numpy as np\n",
        "import pandas as pd\n",
        "import scipy\n",
        "import statsmodels.api as sm\n",
        "from scipy.stats import chisquare\n",
        "from statsmodels.stats.proportion import proportions_ztest\n",
        "from statsmodels.stats.proportion import confint_proportions_2indep"
      ]
    },
    {
      "cell_type": "markdown",
      "metadata": {
        "id": "v86lEnxMRgsK"
      },
      "source": [
        "**Membaca Dataset**"
      ]
    },
    {
      "cell_type": "code",
      "execution_count": null,
      "metadata": {
        "colab": {
          "base_uri": "https://localhost:8080/",
          "height": 206
        },
        "id": "uNnVXe3PyS3a",
        "outputId": "bf0d9747-d34e-4760-9493-e234cee8a2be"
      },
      "outputs": [
        {
          "data": {
            "text/html": [
              "\n",
              "  <div id=\"df-5cd02f75-e431-4e36-8a58-82a65d592f21\">\n",
              "    <div class=\"colab-df-container\">\n",
              "      <div>\n",
              "<style scoped>\n",
              "    .dataframe tbody tr th:only-of-type {\n",
              "        vertical-align: middle;\n",
              "    }\n",
              "\n",
              "    .dataframe tbody tr th {\n",
              "        vertical-align: top;\n",
              "    }\n",
              "\n",
              "    .dataframe thead th {\n",
              "        text-align: right;\n",
              "    }\n",
              "</style>\n",
              "<table border=\"1\" class=\"dataframe\">\n",
              "  <thead>\n",
              "    <tr style=\"text-align: right;\">\n",
              "      <th></th>\n",
              "      <th>auction_id</th>\n",
              "      <th>experiment</th>\n",
              "      <th>date</th>\n",
              "      <th>hour</th>\n",
              "      <th>device_make</th>\n",
              "      <th>platform_os</th>\n",
              "      <th>browser</th>\n",
              "      <th>yes</th>\n",
              "      <th>no</th>\n",
              "    </tr>\n",
              "  </thead>\n",
              "  <tbody>\n",
              "    <tr>\n",
              "      <th>0</th>\n",
              "      <td>0008ef63-77a7-448b-bd1e-075f42c55e39</td>\n",
              "      <td>exposed</td>\n",
              "      <td>2020-07-10</td>\n",
              "      <td>8</td>\n",
              "      <td>Generic Smartphone</td>\n",
              "      <td>6</td>\n",
              "      <td>Chrome Mobile</td>\n",
              "      <td>0</td>\n",
              "      <td>0</td>\n",
              "    </tr>\n",
              "    <tr>\n",
              "      <th>1</th>\n",
              "      <td>000eabc5-17ce-4137-8efe-44734d914446</td>\n",
              "      <td>exposed</td>\n",
              "      <td>2020-07-07</td>\n",
              "      <td>10</td>\n",
              "      <td>Generic Smartphone</td>\n",
              "      <td>6</td>\n",
              "      <td>Chrome Mobile</td>\n",
              "      <td>0</td>\n",
              "      <td>0</td>\n",
              "    </tr>\n",
              "    <tr>\n",
              "      <th>2</th>\n",
              "      <td>0016d14a-ae18-4a02-a204-6ba53b52f2ed</td>\n",
              "      <td>exposed</td>\n",
              "      <td>2020-07-05</td>\n",
              "      <td>2</td>\n",
              "      <td>E5823</td>\n",
              "      <td>6</td>\n",
              "      <td>Chrome Mobile WebView</td>\n",
              "      <td>0</td>\n",
              "      <td>1</td>\n",
              "    </tr>\n",
              "    <tr>\n",
              "      <th>3</th>\n",
              "      <td>00187412-2932-4542-a8ef-3633901c98d9</td>\n",
              "      <td>control</td>\n",
              "      <td>2020-07-03</td>\n",
              "      <td>15</td>\n",
              "      <td>Samsung SM-A705FN</td>\n",
              "      <td>6</td>\n",
              "      <td>Facebook</td>\n",
              "      <td>0</td>\n",
              "      <td>0</td>\n",
              "    </tr>\n",
              "    <tr>\n",
              "      <th>4</th>\n",
              "      <td>001a7785-d3fe-4e11-a344-c8735acacc2c</td>\n",
              "      <td>control</td>\n",
              "      <td>2020-07-03</td>\n",
              "      <td>15</td>\n",
              "      <td>Generic Smartphone</td>\n",
              "      <td>6</td>\n",
              "      <td>Chrome Mobile</td>\n",
              "      <td>0</td>\n",
              "      <td>0</td>\n",
              "    </tr>\n",
              "  </tbody>\n",
              "</table>\n",
              "</div>\n",
              "      <button class=\"colab-df-convert\" onclick=\"convertToInteractive('df-5cd02f75-e431-4e36-8a58-82a65d592f21')\"\n",
              "              title=\"Convert this dataframe to an interactive table.\"\n",
              "              style=\"display:none;\">\n",
              "        \n",
              "  <svg xmlns=\"http://www.w3.org/2000/svg\" height=\"24px\"viewBox=\"0 0 24 24\"\n",
              "       width=\"24px\">\n",
              "    <path d=\"M0 0h24v24H0V0z\" fill=\"none\"/>\n",
              "    <path d=\"M18.56 5.44l.94 2.06.94-2.06 2.06-.94-2.06-.94-.94-2.06-.94 2.06-2.06.94zm-11 1L8.5 8.5l.94-2.06 2.06-.94-2.06-.94L8.5 2.5l-.94 2.06-2.06.94zm10 10l.94 2.06.94-2.06 2.06-.94-2.06-.94-.94-2.06-.94 2.06-2.06.94z\"/><path d=\"M17.41 7.96l-1.37-1.37c-.4-.4-.92-.59-1.43-.59-.52 0-1.04.2-1.43.59L10.3 9.45l-7.72 7.72c-.78.78-.78 2.05 0 2.83L4 21.41c.39.39.9.59 1.41.59.51 0 1.02-.2 1.41-.59l7.78-7.78 2.81-2.81c.8-.78.8-2.07 0-2.86zM5.41 20L4 18.59l7.72-7.72 1.47 1.35L5.41 20z\"/>\n",
              "  </svg>\n",
              "      </button>\n",
              "      \n",
              "  <style>\n",
              "    .colab-df-container {\n",
              "      display:flex;\n",
              "      flex-wrap:wrap;\n",
              "      gap: 12px;\n",
              "    }\n",
              "\n",
              "    .colab-df-convert {\n",
              "      background-color: #E8F0FE;\n",
              "      border: none;\n",
              "      border-radius: 50%;\n",
              "      cursor: pointer;\n",
              "      display: none;\n",
              "      fill: #1967D2;\n",
              "      height: 32px;\n",
              "      padding: 0 0 0 0;\n",
              "      width: 32px;\n",
              "    }\n",
              "\n",
              "    .colab-df-convert:hover {\n",
              "      background-color: #E2EBFA;\n",
              "      box-shadow: 0px 1px 2px rgba(60, 64, 67, 0.3), 0px 1px 3px 1px rgba(60, 64, 67, 0.15);\n",
              "      fill: #174EA6;\n",
              "    }\n",
              "\n",
              "    [theme=dark] .colab-df-convert {\n",
              "      background-color: #3B4455;\n",
              "      fill: #D2E3FC;\n",
              "    }\n",
              "\n",
              "    [theme=dark] .colab-df-convert:hover {\n",
              "      background-color: #434B5C;\n",
              "      box-shadow: 0px 1px 3px 1px rgba(0, 0, 0, 0.15);\n",
              "      filter: drop-shadow(0px 1px 2px rgba(0, 0, 0, 0.3));\n",
              "      fill: #FFFFFF;\n",
              "    }\n",
              "  </style>\n",
              "\n",
              "      <script>\n",
              "        const buttonEl =\n",
              "          document.querySelector('#df-5cd02f75-e431-4e36-8a58-82a65d592f21 button.colab-df-convert');\n",
              "        buttonEl.style.display =\n",
              "          google.colab.kernel.accessAllowed ? 'block' : 'none';\n",
              "\n",
              "        async function convertToInteractive(key) {\n",
              "          const element = document.querySelector('#df-5cd02f75-e431-4e36-8a58-82a65d592f21');\n",
              "          const dataTable =\n",
              "            await google.colab.kernel.invokeFunction('convertToInteractive',\n",
              "                                                     [key], {});\n",
              "          if (!dataTable) return;\n",
              "\n",
              "          const docLinkHtml = 'Like what you see? Visit the ' +\n",
              "            '<a target=\"_blank\" href=https://colab.research.google.com/notebooks/data_table.ipynb>data table notebook</a>'\n",
              "            + ' to learn more about interactive tables.';\n",
              "          element.innerHTML = '';\n",
              "          dataTable['output_type'] = 'display_data';\n",
              "          await google.colab.output.renderOutput(dataTable, element);\n",
              "          const docLink = document.createElement('div');\n",
              "          docLink.innerHTML = docLinkHtml;\n",
              "          element.appendChild(docLink);\n",
              "        }\n",
              "      </script>\n",
              "    </div>\n",
              "  </div>\n",
              "  "
            ],
            "text/plain": [
              "                             auction_id experiment        date  hour  \\\n",
              "0  0008ef63-77a7-448b-bd1e-075f42c55e39    exposed  2020-07-10     8   \n",
              "1  000eabc5-17ce-4137-8efe-44734d914446    exposed  2020-07-07    10   \n",
              "2  0016d14a-ae18-4a02-a204-6ba53b52f2ed    exposed  2020-07-05     2   \n",
              "3  00187412-2932-4542-a8ef-3633901c98d9    control  2020-07-03    15   \n",
              "4  001a7785-d3fe-4e11-a344-c8735acacc2c    control  2020-07-03    15   \n",
              "\n",
              "          device_make  platform_os                browser  yes  no  \n",
              "0  Generic Smartphone            6          Chrome Mobile    0   0  \n",
              "1  Generic Smartphone            6          Chrome Mobile    0   0  \n",
              "2               E5823            6  Chrome Mobile WebView    0   1  \n",
              "3   Samsung SM-A705FN            6               Facebook    0   0  \n",
              "4  Generic Smartphone            6          Chrome Mobile    0   0  "
            ]
          },
          "execution_count": 4,
          "metadata": {},
          "output_type": "execute_result"
        }
      ],
      "source": [
        "# import dataset\n",
        "data = pd.read_csv(\"AdSmartABdata.csv\")\n",
        "data.head()"
      ]
    },
    {
      "cell_type": "code",
      "execution_count": null,
      "metadata": {
        "colab": {
          "base_uri": "https://localhost:8080/"
        },
        "id": "d5zoIB-_FVzN",
        "outputId": "bc95f12c-791f-4d3d-db41-a9cf9f020e0a"
      },
      "outputs": [
        {
          "data": {
            "text/plain": [
              "(8077, 9)"
            ]
          },
          "execution_count": 5,
          "metadata": {},
          "output_type": "execute_result"
        }
      ],
      "source": [
        "# dimensi data\n",
        "data.shape"
      ]
    },
    {
      "cell_type": "code",
      "execution_count": null,
      "metadata": {
        "colab": {
          "base_uri": "https://localhost:8080/"
        },
        "id": "CFNM-oVAFucf",
        "outputId": "a5ae0f50-05a8-4c21-c6d9-3918a4c1337a"
      },
      "outputs": [
        {
          "name": "stdout",
          "output_type": "stream",
          "text": [
            "<class 'pandas.core.frame.DataFrame'>\n",
            "RangeIndex: 8077 entries, 0 to 8076\n",
            "Data columns (total 9 columns):\n",
            " #   Column       Non-Null Count  Dtype \n",
            "---  ------       --------------  ----- \n",
            " 0   auction_id   8077 non-null   object\n",
            " 1   experiment   8077 non-null   object\n",
            " 2   date         8077 non-null   object\n",
            " 3   hour         8077 non-null   int64 \n",
            " 4   device_make  8077 non-null   object\n",
            " 5   platform_os  8077 non-null   int64 \n",
            " 6   browser      8077 non-null   object\n",
            " 7   yes          8077 non-null   int64 \n",
            " 8   no           8077 non-null   int64 \n",
            "dtypes: int64(4), object(5)\n",
            "memory usage: 568.0+ KB\n"
          ]
        }
      ],
      "source": [
        "# overview data\n",
        "data.info()"
      ]
    },
    {
      "cell_type": "code",
      "execution_count": null,
      "metadata": {
        "colab": {
          "base_uri": "https://localhost:8080/"
        },
        "id": "N79231nuGjxE",
        "outputId": "682b7299-db57-4b41-a8fb-f2c40c6e47d8"
      },
      "outputs": [
        {
          "output_type": "execute_result",
          "data": {
            "text/plain": [
              "array(['2020-07-10', '2020-07-07', '2020-07-05', '2020-07-03',\n",
              "       '2020-07-09', '2020-07-04', '2020-07-06', '2020-07-08'],\n",
              "      dtype=object)"
            ]
          },
          "metadata": {},
          "execution_count": 122
        }
      ],
      "source": [
        "# Periode eksperimen\n",
        "data['date'].unique()"
      ]
    },
    {
      "cell_type": "markdown",
      "metadata": {
        "id": "GROyelev1zYc"
      },
      "source": [
        "Deskripsi Variabel\n",
        "\n",
        "`auction_id`: Unique ID dari users yang terekspos dengan kuesioner. Seorang user dapat melihat kuesioner dan memilih untuk tidak merespon. Dalam hal ini nilai kolom `yes` dan `no`-nya adalah 0.\n",
        "\n",
        "`experiment`: Kelompok di mana users itu ditempatkan. Control berarti kelompok users yang diperlihatkan dummy ad. Exposed berarti kelompok users yang diperlihatkan interactive ad.\n",
        "\n",
        "`date`: Tanggal dalam format YYYY-MM-DD\n",
        "\n",
        "`hour`: Jam dalam format HH\n",
        "\n",
        "`device_make`: Jenis device yang digunakan oleh user\n",
        "\n",
        "`platform_os`: ID dari OS yang dimiliki oleh user\n",
        "\n",
        "`browser`: Nama browser yang digunakan oleh user\n",
        "\n",
        "`yes`: Bernilai 1 apabila user memilih tombol \"Yes\" pada kuesioner BIO\n",
        "\n",
        "`no`: Bernilai 0 apabila user memilih tombol \"No\" pada kuesioner BIO\n",
        "\n"
      ]
    },
    {
      "cell_type": "markdown",
      "metadata": {
        "id": "3v7tSidFWWRe"
      },
      "source": [
        "**Menghitung Jumlah Sampel Minimum**"
      ]
    },
    {
      "cell_type": "markdown",
      "metadata": {
        "id": "DE1ZeDnXWooT"
      },
      "source": [
        "Di A/B Testing, kita dapat menggunakan formula berikut ini untuk menghitung jumlah sampel minimum.\n",
        "\n",
        "$$\n",
        "n = \\cfrac{2 σ^2 (z_{1-α/2}+z_{1-β})^2}{δ^2}\n",
        "$$\n",
        "\n",
        "\n",
        "  - $n$: sample size di tiap kelompok \n",
        "  - $σ$: standard deviasi dari outcome variable\n",
        "  - $δ$: peningkatan outcome variable yang diinginkan\n",
        "  - $z_{1-α/2}$: tingkat statistical significance yang diinginkan\n",
        "  - $z_{1-β}$ : tingkat power yang diinginkan \n",
        "\n",
        "\n",
        "Jika kita tentukan nilai alpha 5% dan power level 80% seperti standar industri, maka formula di atas dapat kita sederhanakan:\n",
        "\n",
        "$$\n",
        "n = \\cfrac{16σ^2}{δ^2}\n",
        "$$"
      ]
    },
    {
      "cell_type": "code",
      "execution_count": null,
      "metadata": {
        "colab": {
          "base_uri": "https://localhost:8080/"
        },
        "id": "6zzrlEWeZ2kR",
        "outputId": "46fa4641-c630-4e22-fc00-5f2c1ed07d9c"
      },
      "outputs": [
        {
          "name": "stdout",
          "output_type": "stream",
          "text": [
            "Jumlah minimum sample yang dibutuhkan per kelompok variant adalah 256 sample\n"
          ]
        }
      ],
      "source": [
        "# nilai alpha dan beta sudah ditentukan\n",
        "# tinggal menentukan nilai std_dev dan delta\n",
        "\n",
        "std_dev = 0.04 # Diketahui berdasarkan data historis\n",
        "delta = 0.01 # Peningkatan conversion rate yang diinginkan\n",
        "\n",
        "n = (16 * (0.04**2)) / 0.01**2\n",
        "\n",
        "print(f'Jumlah minimum sample yang dibutuhkan per kelompok variant adalah {n:.0f} sample')"
      ]
    },
    {
      "cell_type": "markdown",
      "metadata": {
        "id": "WoG5CuvjjPta"
      },
      "source": [
        "**Mengecek Observasi yang Tidak Merespon Kuesioner**"
      ]
    },
    {
      "cell_type": "markdown",
      "metadata": {
        "id": "127x2rRSc0Ub"
      },
      "source": [
        "Seorang user dapat memilih untuk tidak menjawab 'Yes' atau 'No' ketika diperlihatkan kuesioner melalui advertisement. Karena eksperimen ini ingin melihat conversion rate, kita perlu menghapus observasi non-respon tersebut."
      ]
    },
    {
      "cell_type": "code",
      "execution_count": null,
      "metadata": {
        "colab": {
          "base_uri": "https://localhost:8080/",
          "height": 424
        },
        "id": "nwVDor_je9D0",
        "outputId": "96e4d6d7-0e96-4137-de22-12fd85848efe"
      },
      "outputs": [
        {
          "data": {
            "text/html": [
              "\n",
              "  <div id=\"df-bd21e0e9-00c3-4c4c-9915-13c0518e9b8e\">\n",
              "    <div class=\"colab-df-container\">\n",
              "      <div>\n",
              "<style scoped>\n",
              "    .dataframe tbody tr th:only-of-type {\n",
              "        vertical-align: middle;\n",
              "    }\n",
              "\n",
              "    .dataframe tbody tr th {\n",
              "        vertical-align: top;\n",
              "    }\n",
              "\n",
              "    .dataframe thead th {\n",
              "        text-align: right;\n",
              "    }\n",
              "</style>\n",
              "<table border=\"1\" class=\"dataframe\">\n",
              "  <thead>\n",
              "    <tr style=\"text-align: right;\">\n",
              "      <th></th>\n",
              "      <th>auction_id</th>\n",
              "      <th>experiment</th>\n",
              "      <th>date</th>\n",
              "      <th>hour</th>\n",
              "      <th>device_make</th>\n",
              "      <th>platform_os</th>\n",
              "      <th>browser</th>\n",
              "      <th>yes</th>\n",
              "      <th>no</th>\n",
              "    </tr>\n",
              "  </thead>\n",
              "  <tbody>\n",
              "    <tr>\n",
              "      <th>0</th>\n",
              "      <td>0008ef63-77a7-448b-bd1e-075f42c55e39</td>\n",
              "      <td>exposed</td>\n",
              "      <td>2020-07-10</td>\n",
              "      <td>8</td>\n",
              "      <td>Generic Smartphone</td>\n",
              "      <td>6</td>\n",
              "      <td>Chrome Mobile</td>\n",
              "      <td>0</td>\n",
              "      <td>0</td>\n",
              "    </tr>\n",
              "    <tr>\n",
              "      <th>1</th>\n",
              "      <td>000eabc5-17ce-4137-8efe-44734d914446</td>\n",
              "      <td>exposed</td>\n",
              "      <td>2020-07-07</td>\n",
              "      <td>10</td>\n",
              "      <td>Generic Smartphone</td>\n",
              "      <td>6</td>\n",
              "      <td>Chrome Mobile</td>\n",
              "      <td>0</td>\n",
              "      <td>0</td>\n",
              "    </tr>\n",
              "    <tr>\n",
              "      <th>3</th>\n",
              "      <td>00187412-2932-4542-a8ef-3633901c98d9</td>\n",
              "      <td>control</td>\n",
              "      <td>2020-07-03</td>\n",
              "      <td>15</td>\n",
              "      <td>Samsung SM-A705FN</td>\n",
              "      <td>6</td>\n",
              "      <td>Facebook</td>\n",
              "      <td>0</td>\n",
              "      <td>0</td>\n",
              "    </tr>\n",
              "    <tr>\n",
              "      <th>4</th>\n",
              "      <td>001a7785-d3fe-4e11-a344-c8735acacc2c</td>\n",
              "      <td>control</td>\n",
              "      <td>2020-07-03</td>\n",
              "      <td>15</td>\n",
              "      <td>Generic Smartphone</td>\n",
              "      <td>6</td>\n",
              "      <td>Chrome Mobile</td>\n",
              "      <td>0</td>\n",
              "      <td>0</td>\n",
              "    </tr>\n",
              "    <tr>\n",
              "      <th>5</th>\n",
              "      <td>0027ce48-d3c6-4935-bb12-dfb5d5627857</td>\n",
              "      <td>control</td>\n",
              "      <td>2020-07-03</td>\n",
              "      <td>15</td>\n",
              "      <td>Samsung SM-G960F</td>\n",
              "      <td>6</td>\n",
              "      <td>Facebook</td>\n",
              "      <td>0</td>\n",
              "      <td>0</td>\n",
              "    </tr>\n",
              "    <tr>\n",
              "      <th>...</th>\n",
              "      <td>...</td>\n",
              "      <td>...</td>\n",
              "      <td>...</td>\n",
              "      <td>...</td>\n",
              "      <td>...</td>\n",
              "      <td>...</td>\n",
              "      <td>...</td>\n",
              "      <td>...</td>\n",
              "      <td>...</td>\n",
              "    </tr>\n",
              "    <tr>\n",
              "      <th>8072</th>\n",
              "      <td>ffea24ec-cec1-43fb-b1d1-8f93828c2be2</td>\n",
              "      <td>exposed</td>\n",
              "      <td>2020-07-05</td>\n",
              "      <td>7</td>\n",
              "      <td>Generic Smartphone</td>\n",
              "      <td>6</td>\n",
              "      <td>Chrome Mobile</td>\n",
              "      <td>0</td>\n",
              "      <td>0</td>\n",
              "    </tr>\n",
              "    <tr>\n",
              "      <th>8073</th>\n",
              "      <td>ffea3210-2c3e-426f-a77d-0aa72e73b20f</td>\n",
              "      <td>control</td>\n",
              "      <td>2020-07-03</td>\n",
              "      <td>15</td>\n",
              "      <td>Generic Smartphone</td>\n",
              "      <td>6</td>\n",
              "      <td>Chrome Mobile</td>\n",
              "      <td>0</td>\n",
              "      <td>0</td>\n",
              "    </tr>\n",
              "    <tr>\n",
              "      <th>8074</th>\n",
              "      <td>ffeaa0f1-1d72-4ba9-afb4-314b3b00a7c7</td>\n",
              "      <td>control</td>\n",
              "      <td>2020-07-04</td>\n",
              "      <td>9</td>\n",
              "      <td>Generic Smartphone</td>\n",
              "      <td>6</td>\n",
              "      <td>Chrome Mobile</td>\n",
              "      <td>0</td>\n",
              "      <td>0</td>\n",
              "    </tr>\n",
              "    <tr>\n",
              "      <th>8075</th>\n",
              "      <td>ffeeed62-3f7c-4a6e-8ba7-95d303d40969</td>\n",
              "      <td>exposed</td>\n",
              "      <td>2020-07-05</td>\n",
              "      <td>15</td>\n",
              "      <td>Samsung SM-A515F</td>\n",
              "      <td>6</td>\n",
              "      <td>Samsung Internet</td>\n",
              "      <td>0</td>\n",
              "      <td>0</td>\n",
              "    </tr>\n",
              "    <tr>\n",
              "      <th>8076</th>\n",
              "      <td>fffbb9ff-568a-41a5-a0c3-6866592f80d8</td>\n",
              "      <td>control</td>\n",
              "      <td>2020-07-10</td>\n",
              "      <td>14</td>\n",
              "      <td>Samsung SM-G960F</td>\n",
              "      <td>6</td>\n",
              "      <td>Facebook</td>\n",
              "      <td>0</td>\n",
              "      <td>0</td>\n",
              "    </tr>\n",
              "  </tbody>\n",
              "</table>\n",
              "<p>6834 rows × 9 columns</p>\n",
              "</div>\n",
              "      <button class=\"colab-df-convert\" onclick=\"convertToInteractive('df-bd21e0e9-00c3-4c4c-9915-13c0518e9b8e')\"\n",
              "              title=\"Convert this dataframe to an interactive table.\"\n",
              "              style=\"display:none;\">\n",
              "        \n",
              "  <svg xmlns=\"http://www.w3.org/2000/svg\" height=\"24px\"viewBox=\"0 0 24 24\"\n",
              "       width=\"24px\">\n",
              "    <path d=\"M0 0h24v24H0V0z\" fill=\"none\"/>\n",
              "    <path d=\"M18.56 5.44l.94 2.06.94-2.06 2.06-.94-2.06-.94-.94-2.06-.94 2.06-2.06.94zm-11 1L8.5 8.5l.94-2.06 2.06-.94-2.06-.94L8.5 2.5l-.94 2.06-2.06.94zm10 10l.94 2.06.94-2.06 2.06-.94-2.06-.94-.94-2.06-.94 2.06-2.06.94z\"/><path d=\"M17.41 7.96l-1.37-1.37c-.4-.4-.92-.59-1.43-.59-.52 0-1.04.2-1.43.59L10.3 9.45l-7.72 7.72c-.78.78-.78 2.05 0 2.83L4 21.41c.39.39.9.59 1.41.59.51 0 1.02-.2 1.41-.59l7.78-7.78 2.81-2.81c.8-.78.8-2.07 0-2.86zM5.41 20L4 18.59l7.72-7.72 1.47 1.35L5.41 20z\"/>\n",
              "  </svg>\n",
              "      </button>\n",
              "      \n",
              "  <style>\n",
              "    .colab-df-container {\n",
              "      display:flex;\n",
              "      flex-wrap:wrap;\n",
              "      gap: 12px;\n",
              "    }\n",
              "\n",
              "    .colab-df-convert {\n",
              "      background-color: #E8F0FE;\n",
              "      border: none;\n",
              "      border-radius: 50%;\n",
              "      cursor: pointer;\n",
              "      display: none;\n",
              "      fill: #1967D2;\n",
              "      height: 32px;\n",
              "      padding: 0 0 0 0;\n",
              "      width: 32px;\n",
              "    }\n",
              "\n",
              "    .colab-df-convert:hover {\n",
              "      background-color: #E2EBFA;\n",
              "      box-shadow: 0px 1px 2px rgba(60, 64, 67, 0.3), 0px 1px 3px 1px rgba(60, 64, 67, 0.15);\n",
              "      fill: #174EA6;\n",
              "    }\n",
              "\n",
              "    [theme=dark] .colab-df-convert {\n",
              "      background-color: #3B4455;\n",
              "      fill: #D2E3FC;\n",
              "    }\n",
              "\n",
              "    [theme=dark] .colab-df-convert:hover {\n",
              "      background-color: #434B5C;\n",
              "      box-shadow: 0px 1px 3px 1px rgba(0, 0, 0, 0.15);\n",
              "      filter: drop-shadow(0px 1px 2px rgba(0, 0, 0, 0.3));\n",
              "      fill: #FFFFFF;\n",
              "    }\n",
              "  </style>\n",
              "\n",
              "      <script>\n",
              "        const buttonEl =\n",
              "          document.querySelector('#df-bd21e0e9-00c3-4c4c-9915-13c0518e9b8e button.colab-df-convert');\n",
              "        buttonEl.style.display =\n",
              "          google.colab.kernel.accessAllowed ? 'block' : 'none';\n",
              "\n",
              "        async function convertToInteractive(key) {\n",
              "          const element = document.querySelector('#df-bd21e0e9-00c3-4c4c-9915-13c0518e9b8e');\n",
              "          const dataTable =\n",
              "            await google.colab.kernel.invokeFunction('convertToInteractive',\n",
              "                                                     [key], {});\n",
              "          if (!dataTable) return;\n",
              "\n",
              "          const docLinkHtml = 'Like what you see? Visit the ' +\n",
              "            '<a target=\"_blank\" href=https://colab.research.google.com/notebooks/data_table.ipynb>data table notebook</a>'\n",
              "            + ' to learn more about interactive tables.';\n",
              "          element.innerHTML = '';\n",
              "          dataTable['output_type'] = 'display_data';\n",
              "          await google.colab.output.renderOutput(dataTable, element);\n",
              "          const docLink = document.createElement('div');\n",
              "          docLink.innerHTML = docLinkHtml;\n",
              "          element.appendChild(docLink);\n",
              "        }\n",
              "      </script>\n",
              "    </div>\n",
              "  </div>\n",
              "  "
            ],
            "text/plain": [
              "                                auction_id experiment        date  hour  \\\n",
              "0     0008ef63-77a7-448b-bd1e-075f42c55e39    exposed  2020-07-10     8   \n",
              "1     000eabc5-17ce-4137-8efe-44734d914446    exposed  2020-07-07    10   \n",
              "3     00187412-2932-4542-a8ef-3633901c98d9    control  2020-07-03    15   \n",
              "4     001a7785-d3fe-4e11-a344-c8735acacc2c    control  2020-07-03    15   \n",
              "5     0027ce48-d3c6-4935-bb12-dfb5d5627857    control  2020-07-03    15   \n",
              "...                                    ...        ...         ...   ...   \n",
              "8072  ffea24ec-cec1-43fb-b1d1-8f93828c2be2    exposed  2020-07-05     7   \n",
              "8073  ffea3210-2c3e-426f-a77d-0aa72e73b20f    control  2020-07-03    15   \n",
              "8074  ffeaa0f1-1d72-4ba9-afb4-314b3b00a7c7    control  2020-07-04     9   \n",
              "8075  ffeeed62-3f7c-4a6e-8ba7-95d303d40969    exposed  2020-07-05    15   \n",
              "8076  fffbb9ff-568a-41a5-a0c3-6866592f80d8    control  2020-07-10    14   \n",
              "\n",
              "             device_make  platform_os           browser  yes  no  \n",
              "0     Generic Smartphone            6     Chrome Mobile    0   0  \n",
              "1     Generic Smartphone            6     Chrome Mobile    0   0  \n",
              "3      Samsung SM-A705FN            6          Facebook    0   0  \n",
              "4     Generic Smartphone            6     Chrome Mobile    0   0  \n",
              "5       Samsung SM-G960F            6          Facebook    0   0  \n",
              "...                  ...          ...               ...  ...  ..  \n",
              "8072  Generic Smartphone            6     Chrome Mobile    0   0  \n",
              "8073  Generic Smartphone            6     Chrome Mobile    0   0  \n",
              "8074  Generic Smartphone            6     Chrome Mobile    0   0  \n",
              "8075    Samsung SM-A515F            6  Samsung Internet    0   0  \n",
              "8076    Samsung SM-G960F            6          Facebook    0   0  \n",
              "\n",
              "[6834 rows x 9 columns]"
            ]
          },
          "execution_count": 37,
          "metadata": {},
          "output_type": "execute_result"
        }
      ],
      "source": [
        "# cek data non-response\n",
        "\n",
        "data_no_ans = data[(data['yes'] == 0) & (data['no'] == 0)]\n",
        "data_no_ans"
      ]
    },
    {
      "cell_type": "code",
      "execution_count": null,
      "metadata": {
        "colab": {
          "base_uri": "https://localhost:8080/",
          "height": 206
        },
        "id": "4Y4Vp5D0iSLL",
        "outputId": "05173476-b65a-4de1-bfb2-a724023a6c68"
      },
      "outputs": [
        {
          "data": {
            "text/html": [
              "\n",
              "  <div id=\"df-5d353ec1-4c59-44e6-a11f-e044660eaf18\">\n",
              "    <div class=\"colab-df-container\">\n",
              "      <div>\n",
              "<style scoped>\n",
              "    .dataframe tbody tr th:only-of-type {\n",
              "        vertical-align: middle;\n",
              "    }\n",
              "\n",
              "    .dataframe tbody tr th {\n",
              "        vertical-align: top;\n",
              "    }\n",
              "\n",
              "    .dataframe thead th {\n",
              "        text-align: right;\n",
              "    }\n",
              "</style>\n",
              "<table border=\"1\" class=\"dataframe\">\n",
              "  <thead>\n",
              "    <tr style=\"text-align: right;\">\n",
              "      <th></th>\n",
              "      <th>auction_id</th>\n",
              "      <th>experiment</th>\n",
              "      <th>date</th>\n",
              "      <th>hour</th>\n",
              "      <th>device_make</th>\n",
              "      <th>platform_os</th>\n",
              "      <th>browser</th>\n",
              "      <th>yes</th>\n",
              "      <th>no</th>\n",
              "    </tr>\n",
              "  </thead>\n",
              "  <tbody>\n",
              "    <tr>\n",
              "      <th>2</th>\n",
              "      <td>0016d14a-ae18-4a02-a204-6ba53b52f2ed</td>\n",
              "      <td>exposed</td>\n",
              "      <td>2020-07-05</td>\n",
              "      <td>2</td>\n",
              "      <td>E5823</td>\n",
              "      <td>6</td>\n",
              "      <td>Chrome Mobile WebView</td>\n",
              "      <td>0</td>\n",
              "      <td>1</td>\n",
              "    </tr>\n",
              "    <tr>\n",
              "      <th>16</th>\n",
              "      <td>008aafdf-deef-4482-8fec-d98e3da054da</td>\n",
              "      <td>exposed</td>\n",
              "      <td>2020-07-04</td>\n",
              "      <td>16</td>\n",
              "      <td>Generic Smartphone</td>\n",
              "      <td>6</td>\n",
              "      <td>Chrome Mobile</td>\n",
              "      <td>1</td>\n",
              "      <td>0</td>\n",
              "    </tr>\n",
              "    <tr>\n",
              "      <th>20</th>\n",
              "      <td>00a1384a-5118-4d1b-925b-6cdada50318d</td>\n",
              "      <td>exposed</td>\n",
              "      <td>2020-07-06</td>\n",
              "      <td>8</td>\n",
              "      <td>Generic Smartphone</td>\n",
              "      <td>6</td>\n",
              "      <td>Chrome Mobile</td>\n",
              "      <td>0</td>\n",
              "      <td>1</td>\n",
              "    </tr>\n",
              "    <tr>\n",
              "      <th>23</th>\n",
              "      <td>00b6fadb-10bd-49e3-a778-290da82f7a8d</td>\n",
              "      <td>control</td>\n",
              "      <td>2020-07-08</td>\n",
              "      <td>4</td>\n",
              "      <td>Samsung SM-A202F</td>\n",
              "      <td>6</td>\n",
              "      <td>Facebook</td>\n",
              "      <td>1</td>\n",
              "      <td>0</td>\n",
              "    </tr>\n",
              "    <tr>\n",
              "      <th>27</th>\n",
              "      <td>00ebf4a8-060f-4b99-93ac-c62724399483</td>\n",
              "      <td>control</td>\n",
              "      <td>2020-07-03</td>\n",
              "      <td>15</td>\n",
              "      <td>Generic Smartphone</td>\n",
              "      <td>6</td>\n",
              "      <td>Chrome Mobile</td>\n",
              "      <td>0</td>\n",
              "      <td>1</td>\n",
              "    </tr>\n",
              "  </tbody>\n",
              "</table>\n",
              "</div>\n",
              "      <button class=\"colab-df-convert\" onclick=\"convertToInteractive('df-5d353ec1-4c59-44e6-a11f-e044660eaf18')\"\n",
              "              title=\"Convert this dataframe to an interactive table.\"\n",
              "              style=\"display:none;\">\n",
              "        \n",
              "  <svg xmlns=\"http://www.w3.org/2000/svg\" height=\"24px\"viewBox=\"0 0 24 24\"\n",
              "       width=\"24px\">\n",
              "    <path d=\"M0 0h24v24H0V0z\" fill=\"none\"/>\n",
              "    <path d=\"M18.56 5.44l.94 2.06.94-2.06 2.06-.94-2.06-.94-.94-2.06-.94 2.06-2.06.94zm-11 1L8.5 8.5l.94-2.06 2.06-.94-2.06-.94L8.5 2.5l-.94 2.06-2.06.94zm10 10l.94 2.06.94-2.06 2.06-.94-2.06-.94-.94-2.06-.94 2.06-2.06.94z\"/><path d=\"M17.41 7.96l-1.37-1.37c-.4-.4-.92-.59-1.43-.59-.52 0-1.04.2-1.43.59L10.3 9.45l-7.72 7.72c-.78.78-.78 2.05 0 2.83L4 21.41c.39.39.9.59 1.41.59.51 0 1.02-.2 1.41-.59l7.78-7.78 2.81-2.81c.8-.78.8-2.07 0-2.86zM5.41 20L4 18.59l7.72-7.72 1.47 1.35L5.41 20z\"/>\n",
              "  </svg>\n",
              "      </button>\n",
              "      \n",
              "  <style>\n",
              "    .colab-df-container {\n",
              "      display:flex;\n",
              "      flex-wrap:wrap;\n",
              "      gap: 12px;\n",
              "    }\n",
              "\n",
              "    .colab-df-convert {\n",
              "      background-color: #E8F0FE;\n",
              "      border: none;\n",
              "      border-radius: 50%;\n",
              "      cursor: pointer;\n",
              "      display: none;\n",
              "      fill: #1967D2;\n",
              "      height: 32px;\n",
              "      padding: 0 0 0 0;\n",
              "      width: 32px;\n",
              "    }\n",
              "\n",
              "    .colab-df-convert:hover {\n",
              "      background-color: #E2EBFA;\n",
              "      box-shadow: 0px 1px 2px rgba(60, 64, 67, 0.3), 0px 1px 3px 1px rgba(60, 64, 67, 0.15);\n",
              "      fill: #174EA6;\n",
              "    }\n",
              "\n",
              "    [theme=dark] .colab-df-convert {\n",
              "      background-color: #3B4455;\n",
              "      fill: #D2E3FC;\n",
              "    }\n",
              "\n",
              "    [theme=dark] .colab-df-convert:hover {\n",
              "      background-color: #434B5C;\n",
              "      box-shadow: 0px 1px 3px 1px rgba(0, 0, 0, 0.15);\n",
              "      filter: drop-shadow(0px 1px 2px rgba(0, 0, 0, 0.3));\n",
              "      fill: #FFFFFF;\n",
              "    }\n",
              "  </style>\n",
              "\n",
              "      <script>\n",
              "        const buttonEl =\n",
              "          document.querySelector('#df-5d353ec1-4c59-44e6-a11f-e044660eaf18 button.colab-df-convert');\n",
              "        buttonEl.style.display =\n",
              "          google.colab.kernel.accessAllowed ? 'block' : 'none';\n",
              "\n",
              "        async function convertToInteractive(key) {\n",
              "          const element = document.querySelector('#df-5d353ec1-4c59-44e6-a11f-e044660eaf18');\n",
              "          const dataTable =\n",
              "            await google.colab.kernel.invokeFunction('convertToInteractive',\n",
              "                                                     [key], {});\n",
              "          if (!dataTable) return;\n",
              "\n",
              "          const docLinkHtml = 'Like what you see? Visit the ' +\n",
              "            '<a target=\"_blank\" href=https://colab.research.google.com/notebooks/data_table.ipynb>data table notebook</a>'\n",
              "            + ' to learn more about interactive tables.';\n",
              "          element.innerHTML = '';\n",
              "          dataTable['output_type'] = 'display_data';\n",
              "          await google.colab.output.renderOutput(dataTable, element);\n",
              "          const docLink = document.createElement('div');\n",
              "          docLink.innerHTML = docLinkHtml;\n",
              "          element.appendChild(docLink);\n",
              "        }\n",
              "      </script>\n",
              "    </div>\n",
              "  </div>\n",
              "  "
            ],
            "text/plain": [
              "                              auction_id experiment        date  hour  \\\n",
              "2   0016d14a-ae18-4a02-a204-6ba53b52f2ed    exposed  2020-07-05     2   \n",
              "16  008aafdf-deef-4482-8fec-d98e3da054da    exposed  2020-07-04    16   \n",
              "20  00a1384a-5118-4d1b-925b-6cdada50318d    exposed  2020-07-06     8   \n",
              "23  00b6fadb-10bd-49e3-a778-290da82f7a8d    control  2020-07-08     4   \n",
              "27  00ebf4a8-060f-4b99-93ac-c62724399483    control  2020-07-03    15   \n",
              "\n",
              "           device_make  platform_os                browser  yes  no  \n",
              "2                E5823            6  Chrome Mobile WebView    0   1  \n",
              "16  Generic Smartphone            6          Chrome Mobile    1   0  \n",
              "20  Generic Smartphone            6          Chrome Mobile    0   1  \n",
              "23    Samsung SM-A202F            6               Facebook    1   0  \n",
              "27  Generic Smartphone            6          Chrome Mobile    0   1  "
            ]
          },
          "execution_count": 38,
          "metadata": {},
          "output_type": "execute_result"
        }
      ],
      "source": [
        "# drop non-response data\n",
        "\n",
        "new_data = data.drop(data_no_ans.index)\n",
        "new_data.head()"
      ]
    },
    {
      "cell_type": "code",
      "execution_count": null,
      "metadata": {
        "colab": {
          "base_uri": "https://localhost:8080/"
        },
        "id": "h9GGhUD9SYXQ",
        "outputId": "de8a4eeb-8f7a-4572-f086-666e24bcc19b"
      },
      "outputs": [
        {
          "data": {
            "text/plain": [
              "(1243, 9)"
            ]
          },
          "execution_count": 39,
          "metadata": {},
          "output_type": "execute_result"
        }
      ],
      "source": [
        "# dimensi data baru\n",
        "new_data.shape"
      ]
    },
    {
      "cell_type": "code",
      "execution_count": null,
      "metadata": {
        "colab": {
          "base_uri": "https://localhost:8080/"
        },
        "id": "3nl8yIE9IPsM",
        "outputId": "083dfa0f-730e-4045-e299-bcc61b3c5b6a"
      },
      "outputs": [
        {
          "data": {
            "text/plain": [
              "exposed    657\n",
              "control    586\n",
              "Name: experiment, dtype: int64"
            ]
          },
          "execution_count": 41,
          "metadata": {},
          "output_type": "execute_result"
        }
      ],
      "source": [
        "# melihat jumlah exposed dan control terbaru\n",
        "new_data['experiment'].value_counts()"
      ]
    },
    {
      "cell_type": "markdown",
      "metadata": {
        "id": "MD_6YGtT8DGG"
      },
      "source": [
        "**Mengambil Sampel**"
      ]
    },
    {
      "cell_type": "code",
      "execution_count": null,
      "metadata": {
        "colab": {
          "base_uri": "https://localhost:8080/",
          "height": 424
        },
        "id": "bXbuKMmlzWbb",
        "outputId": "5810ace0-7ae9-44e2-edb4-adda38a5401f"
      },
      "outputs": [
        {
          "data": {
            "text/html": [
              "\n",
              "  <div id=\"df-8c313d88-2906-472e-a95e-99abfd4f82fa\">\n",
              "    <div class=\"colab-df-container\">\n",
              "      <div>\n",
              "<style scoped>\n",
              "    .dataframe tbody tr th:only-of-type {\n",
              "        vertical-align: middle;\n",
              "    }\n",
              "\n",
              "    .dataframe tbody tr th {\n",
              "        vertical-align: top;\n",
              "    }\n",
              "\n",
              "    .dataframe thead th {\n",
              "        text-align: right;\n",
              "    }\n",
              "</style>\n",
              "<table border=\"1\" class=\"dataframe\">\n",
              "  <thead>\n",
              "    <tr style=\"text-align: right;\">\n",
              "      <th></th>\n",
              "      <th>auction_id</th>\n",
              "      <th>experiment</th>\n",
              "      <th>date</th>\n",
              "      <th>hour</th>\n",
              "      <th>device_make</th>\n",
              "      <th>platform_os</th>\n",
              "      <th>browser</th>\n",
              "      <th>yes</th>\n",
              "      <th>no</th>\n",
              "    </tr>\n",
              "  </thead>\n",
              "  <tbody>\n",
              "    <tr>\n",
              "      <th>7166</th>\n",
              "      <td>e3d9dd45-d1b7-4502-ab4a-d7f9f3a1c272</td>\n",
              "      <td>control</td>\n",
              "      <td>2020-07-08</td>\n",
              "      <td>19</td>\n",
              "      <td>Samsung SM-G960F</td>\n",
              "      <td>6</td>\n",
              "      <td>Chrome Mobile WebView</td>\n",
              "      <td>0</td>\n",
              "      <td>1</td>\n",
              "    </tr>\n",
              "    <tr>\n",
              "      <th>3374</th>\n",
              "      <td>6d0b7da0-7798-4b70-88c2-f94e5ab65cb6</td>\n",
              "      <td>control</td>\n",
              "      <td>2020-07-10</td>\n",
              "      <td>4</td>\n",
              "      <td>Generic Smartphone</td>\n",
              "      <td>6</td>\n",
              "      <td>Chrome Mobile</td>\n",
              "      <td>0</td>\n",
              "      <td>1</td>\n",
              "    </tr>\n",
              "    <tr>\n",
              "      <th>362</th>\n",
              "      <td>0b0344c4-b114-4705-ad68-6662f0d3bedc</td>\n",
              "      <td>control</td>\n",
              "      <td>2020-07-03</td>\n",
              "      <td>15</td>\n",
              "      <td>LG-$2</td>\n",
              "      <td>6</td>\n",
              "      <td>Chrome Mobile</td>\n",
              "      <td>1</td>\n",
              "      <td>0</td>\n",
              "    </tr>\n",
              "    <tr>\n",
              "      <th>6413</th>\n",
              "      <td>cb7d4819-501d-471c-ad2b-f4f945eb411e</td>\n",
              "      <td>control</td>\n",
              "      <td>2020-07-09</td>\n",
              "      <td>19</td>\n",
              "      <td>Samsung SM-G960F</td>\n",
              "      <td>6</td>\n",
              "      <td>Samsung Internet</td>\n",
              "      <td>1</td>\n",
              "      <td>0</td>\n",
              "    </tr>\n",
              "    <tr>\n",
              "      <th>3574</th>\n",
              "      <td>735d2323-b1f5-4fb8-9893-96a00e3a4e0f</td>\n",
              "      <td>control</td>\n",
              "      <td>2020-07-05</td>\n",
              "      <td>4</td>\n",
              "      <td>Samsung SM-G975F</td>\n",
              "      <td>6</td>\n",
              "      <td>Chrome Mobile WebView</td>\n",
              "      <td>1</td>\n",
              "      <td>0</td>\n",
              "    </tr>\n",
              "    <tr>\n",
              "      <th>...</th>\n",
              "      <td>...</td>\n",
              "      <td>...</td>\n",
              "      <td>...</td>\n",
              "      <td>...</td>\n",
              "      <td>...</td>\n",
              "      <td>...</td>\n",
              "      <td>...</td>\n",
              "      <td>...</td>\n",
              "      <td>...</td>\n",
              "    </tr>\n",
              "    <tr>\n",
              "      <th>2116</th>\n",
              "      <td>4584720e-312d-4389-a9d2-ad6c433669b7</td>\n",
              "      <td>control</td>\n",
              "      <td>2020-07-03</td>\n",
              "      <td>15</td>\n",
              "      <td>Generic Smartphone</td>\n",
              "      <td>6</td>\n",
              "      <td>Chrome Mobile</td>\n",
              "      <td>1</td>\n",
              "      <td>0</td>\n",
              "    </tr>\n",
              "    <tr>\n",
              "      <th>1624</th>\n",
              "      <td>35e2c4ff-fc94-45ba-992f-58fae55365fc</td>\n",
              "      <td>control</td>\n",
              "      <td>2020-07-04</td>\n",
              "      <td>3</td>\n",
              "      <td>Generic Smartphone</td>\n",
              "      <td>6</td>\n",
              "      <td>Chrome Mobile</td>\n",
              "      <td>0</td>\n",
              "      <td>1</td>\n",
              "    </tr>\n",
              "    <tr>\n",
              "      <th>1190</th>\n",
              "      <td>26b140cb-82e2-4318-8837-dc94804e888b</td>\n",
              "      <td>control</td>\n",
              "      <td>2020-07-10</td>\n",
              "      <td>16</td>\n",
              "      <td>Generic Smartphone</td>\n",
              "      <td>6</td>\n",
              "      <td>Chrome Mobile</td>\n",
              "      <td>1</td>\n",
              "      <td>0</td>\n",
              "    </tr>\n",
              "    <tr>\n",
              "      <th>3123</th>\n",
              "      <td>6504ac2f-4b24-48e4-9afd-0fade5317ab5</td>\n",
              "      <td>control</td>\n",
              "      <td>2020-07-04</td>\n",
              "      <td>12</td>\n",
              "      <td>Generic Smartphone</td>\n",
              "      <td>6</td>\n",
              "      <td>Chrome Mobile WebView</td>\n",
              "      <td>0</td>\n",
              "      <td>1</td>\n",
              "    </tr>\n",
              "    <tr>\n",
              "      <th>3581</th>\n",
              "      <td>73bc733a-68c4-4d72-9b67-b4ae81e6e2ed</td>\n",
              "      <td>control</td>\n",
              "      <td>2020-07-03</td>\n",
              "      <td>15</td>\n",
              "      <td>Generic Smartphone</td>\n",
              "      <td>6</td>\n",
              "      <td>Chrome Mobile</td>\n",
              "      <td>1</td>\n",
              "      <td>0</td>\n",
              "    </tr>\n",
              "  </tbody>\n",
              "</table>\n",
              "<p>256 rows × 9 columns</p>\n",
              "</div>\n",
              "      <button class=\"colab-df-convert\" onclick=\"convertToInteractive('df-8c313d88-2906-472e-a95e-99abfd4f82fa')\"\n",
              "              title=\"Convert this dataframe to an interactive table.\"\n",
              "              style=\"display:none;\">\n",
              "        \n",
              "  <svg xmlns=\"http://www.w3.org/2000/svg\" height=\"24px\"viewBox=\"0 0 24 24\"\n",
              "       width=\"24px\">\n",
              "    <path d=\"M0 0h24v24H0V0z\" fill=\"none\"/>\n",
              "    <path d=\"M18.56 5.44l.94 2.06.94-2.06 2.06-.94-2.06-.94-.94-2.06-.94 2.06-2.06.94zm-11 1L8.5 8.5l.94-2.06 2.06-.94-2.06-.94L8.5 2.5l-.94 2.06-2.06.94zm10 10l.94 2.06.94-2.06 2.06-.94-2.06-.94-.94-2.06-.94 2.06-2.06.94z\"/><path d=\"M17.41 7.96l-1.37-1.37c-.4-.4-.92-.59-1.43-.59-.52 0-1.04.2-1.43.59L10.3 9.45l-7.72 7.72c-.78.78-.78 2.05 0 2.83L4 21.41c.39.39.9.59 1.41.59.51 0 1.02-.2 1.41-.59l7.78-7.78 2.81-2.81c.8-.78.8-2.07 0-2.86zM5.41 20L4 18.59l7.72-7.72 1.47 1.35L5.41 20z\"/>\n",
              "  </svg>\n",
              "      </button>\n",
              "      \n",
              "  <style>\n",
              "    .colab-df-container {\n",
              "      display:flex;\n",
              "      flex-wrap:wrap;\n",
              "      gap: 12px;\n",
              "    }\n",
              "\n",
              "    .colab-df-convert {\n",
              "      background-color: #E8F0FE;\n",
              "      border: none;\n",
              "      border-radius: 50%;\n",
              "      cursor: pointer;\n",
              "      display: none;\n",
              "      fill: #1967D2;\n",
              "      height: 32px;\n",
              "      padding: 0 0 0 0;\n",
              "      width: 32px;\n",
              "    }\n",
              "\n",
              "    .colab-df-convert:hover {\n",
              "      background-color: #E2EBFA;\n",
              "      box-shadow: 0px 1px 2px rgba(60, 64, 67, 0.3), 0px 1px 3px 1px rgba(60, 64, 67, 0.15);\n",
              "      fill: #174EA6;\n",
              "    }\n",
              "\n",
              "    [theme=dark] .colab-df-convert {\n",
              "      background-color: #3B4455;\n",
              "      fill: #D2E3FC;\n",
              "    }\n",
              "\n",
              "    [theme=dark] .colab-df-convert:hover {\n",
              "      background-color: #434B5C;\n",
              "      box-shadow: 0px 1px 3px 1px rgba(0, 0, 0, 0.15);\n",
              "      filter: drop-shadow(0px 1px 2px rgba(0, 0, 0, 0.3));\n",
              "      fill: #FFFFFF;\n",
              "    }\n",
              "  </style>\n",
              "\n",
              "      <script>\n",
              "        const buttonEl =\n",
              "          document.querySelector('#df-8c313d88-2906-472e-a95e-99abfd4f82fa button.colab-df-convert');\n",
              "        buttonEl.style.display =\n",
              "          google.colab.kernel.accessAllowed ? 'block' : 'none';\n",
              "\n",
              "        async function convertToInteractive(key) {\n",
              "          const element = document.querySelector('#df-8c313d88-2906-472e-a95e-99abfd4f82fa');\n",
              "          const dataTable =\n",
              "            await google.colab.kernel.invokeFunction('convertToInteractive',\n",
              "                                                     [key], {});\n",
              "          if (!dataTable) return;\n",
              "\n",
              "          const docLinkHtml = 'Like what you see? Visit the ' +\n",
              "            '<a target=\"_blank\" href=https://colab.research.google.com/notebooks/data_table.ipynb>data table notebook</a>'\n",
              "            + ' to learn more about interactive tables.';\n",
              "          element.innerHTML = '';\n",
              "          dataTable['output_type'] = 'display_data';\n",
              "          await google.colab.output.renderOutput(dataTable, element);\n",
              "          const docLink = document.createElement('div');\n",
              "          docLink.innerHTML = docLinkHtml;\n",
              "          element.appendChild(docLink);\n",
              "        }\n",
              "      </script>\n",
              "    </div>\n",
              "  </div>\n",
              "  "
            ],
            "text/plain": [
              "                                auction_id experiment        date  hour  \\\n",
              "7166  e3d9dd45-d1b7-4502-ab4a-d7f9f3a1c272    control  2020-07-08    19   \n",
              "3374  6d0b7da0-7798-4b70-88c2-f94e5ab65cb6    control  2020-07-10     4   \n",
              "362   0b0344c4-b114-4705-ad68-6662f0d3bedc    control  2020-07-03    15   \n",
              "6413  cb7d4819-501d-471c-ad2b-f4f945eb411e    control  2020-07-09    19   \n",
              "3574  735d2323-b1f5-4fb8-9893-96a00e3a4e0f    control  2020-07-05     4   \n",
              "...                                    ...        ...         ...   ...   \n",
              "2116  4584720e-312d-4389-a9d2-ad6c433669b7    control  2020-07-03    15   \n",
              "1624  35e2c4ff-fc94-45ba-992f-58fae55365fc    control  2020-07-04     3   \n",
              "1190  26b140cb-82e2-4318-8837-dc94804e888b    control  2020-07-10    16   \n",
              "3123  6504ac2f-4b24-48e4-9afd-0fade5317ab5    control  2020-07-04    12   \n",
              "3581  73bc733a-68c4-4d72-9b67-b4ae81e6e2ed    control  2020-07-03    15   \n",
              "\n",
              "             device_make  platform_os                browser  yes  no  \n",
              "7166    Samsung SM-G960F            6  Chrome Mobile WebView    0   1  \n",
              "3374  Generic Smartphone            6          Chrome Mobile    0   1  \n",
              "362                LG-$2            6          Chrome Mobile    1   0  \n",
              "6413    Samsung SM-G960F            6       Samsung Internet    1   0  \n",
              "3574    Samsung SM-G975F            6  Chrome Mobile WebView    1   0  \n",
              "...                  ...          ...                    ...  ...  ..  \n",
              "2116  Generic Smartphone            6          Chrome Mobile    1   0  \n",
              "1624  Generic Smartphone            6          Chrome Mobile    0   1  \n",
              "1190  Generic Smartphone            6          Chrome Mobile    1   0  \n",
              "3123  Generic Smartphone            6  Chrome Mobile WebView    0   1  \n",
              "3581  Generic Smartphone            6          Chrome Mobile    1   0  \n",
              "\n",
              "[256 rows x 9 columns]"
            ]
          },
          "execution_count": 45,
          "metadata": {},
          "output_type": "execute_result"
        }
      ],
      "source": [
        "# mengambil sample control\n",
        "\n",
        "sample_control = new_data[new_data[\"experiment\"] == \"control\"]\n",
        "sample_control = sample_control.sample(n = 256, random_state = 1) \n",
        "sample_control"
      ]
    },
    {
      "cell_type": "code",
      "execution_count": null,
      "metadata": {
        "colab": {
          "base_uri": "https://localhost:8080/",
          "height": 424
        },
        "id": "5EYX32f93Ehw",
        "outputId": "eff71633-ded7-4c27-b909-d8c03b2ecd0c"
      },
      "outputs": [
        {
          "data": {
            "text/html": [
              "\n",
              "  <div id=\"df-a1398e9f-370e-481c-99e3-d32dc27583b5\">\n",
              "    <div class=\"colab-df-container\">\n",
              "      <div>\n",
              "<style scoped>\n",
              "    .dataframe tbody tr th:only-of-type {\n",
              "        vertical-align: middle;\n",
              "    }\n",
              "\n",
              "    .dataframe tbody tr th {\n",
              "        vertical-align: top;\n",
              "    }\n",
              "\n",
              "    .dataframe thead th {\n",
              "        text-align: right;\n",
              "    }\n",
              "</style>\n",
              "<table border=\"1\" class=\"dataframe\">\n",
              "  <thead>\n",
              "    <tr style=\"text-align: right;\">\n",
              "      <th></th>\n",
              "      <th>auction_id</th>\n",
              "      <th>experiment</th>\n",
              "      <th>date</th>\n",
              "      <th>hour</th>\n",
              "      <th>device_make</th>\n",
              "      <th>platform_os</th>\n",
              "      <th>browser</th>\n",
              "      <th>yes</th>\n",
              "      <th>no</th>\n",
              "    </tr>\n",
              "  </thead>\n",
              "  <tbody>\n",
              "    <tr>\n",
              "      <th>6025</th>\n",
              "      <td>bf518047-40e7-44e0-a653-16fb004dacab</td>\n",
              "      <td>exposed</td>\n",
              "      <td>2020-07-09</td>\n",
              "      <td>9</td>\n",
              "      <td>Generic Smartphone</td>\n",
              "      <td>6</td>\n",
              "      <td>Chrome Mobile</td>\n",
              "      <td>0</td>\n",
              "      <td>1</td>\n",
              "    </tr>\n",
              "    <tr>\n",
              "      <th>7470</th>\n",
              "      <td>ec77e672-dc3d-47ed-9fbb-f9f2a2d71ab7</td>\n",
              "      <td>exposed</td>\n",
              "      <td>2020-07-05</td>\n",
              "      <td>9</td>\n",
              "      <td>Generic Smartphone</td>\n",
              "      <td>6</td>\n",
              "      <td>Chrome Mobile</td>\n",
              "      <td>0</td>\n",
              "      <td>1</td>\n",
              "    </tr>\n",
              "    <tr>\n",
              "      <th>8059</th>\n",
              "      <td>ffa08ff9-a132-4051-aef5-01a9c79367bc</td>\n",
              "      <td>exposed</td>\n",
              "      <td>2020-07-05</td>\n",
              "      <td>21</td>\n",
              "      <td>Generic Smartphone</td>\n",
              "      <td>6</td>\n",
              "      <td>Chrome Mobile</td>\n",
              "      <td>1</td>\n",
              "      <td>0</td>\n",
              "    </tr>\n",
              "    <tr>\n",
              "      <th>4071</th>\n",
              "      <td>82a14bc9-b578-4f25-9bef-137c3136a094</td>\n",
              "      <td>exposed</td>\n",
              "      <td>2020-07-03</td>\n",
              "      <td>9</td>\n",
              "      <td>Generic Smartphone</td>\n",
              "      <td>6</td>\n",
              "      <td>Chrome Mobile</td>\n",
              "      <td>0</td>\n",
              "      <td>1</td>\n",
              "    </tr>\n",
              "    <tr>\n",
              "      <th>3119</th>\n",
              "      <td>64f4838d-5f0d-49a1-be79-f261ec4d8ddd</td>\n",
              "      <td>exposed</td>\n",
              "      <td>2020-07-04</td>\n",
              "      <td>17</td>\n",
              "      <td>Generic Smartphone</td>\n",
              "      <td>6</td>\n",
              "      <td>Chrome Mobile</td>\n",
              "      <td>0</td>\n",
              "      <td>1</td>\n",
              "    </tr>\n",
              "    <tr>\n",
              "      <th>...</th>\n",
              "      <td>...</td>\n",
              "      <td>...</td>\n",
              "      <td>...</td>\n",
              "      <td>...</td>\n",
              "      <td>...</td>\n",
              "      <td>...</td>\n",
              "      <td>...</td>\n",
              "      <td>...</td>\n",
              "      <td>...</td>\n",
              "    </tr>\n",
              "    <tr>\n",
              "      <th>3337</th>\n",
              "      <td>6bbc74ed-546f-48b5-bf91-cb8888e96286</td>\n",
              "      <td>exposed</td>\n",
              "      <td>2020-07-05</td>\n",
              "      <td>9</td>\n",
              "      <td>Samsung SM-J530F</td>\n",
              "      <td>6</td>\n",
              "      <td>Samsung Internet</td>\n",
              "      <td>1</td>\n",
              "      <td>0</td>\n",
              "    </tr>\n",
              "    <tr>\n",
              "      <th>2598</th>\n",
              "      <td>5378e49b-ec5b-46e8-9e43-03ba4a89a3f7</td>\n",
              "      <td>exposed</td>\n",
              "      <td>2020-07-03</td>\n",
              "      <td>1</td>\n",
              "      <td>Generic Smartphone</td>\n",
              "      <td>6</td>\n",
              "      <td>Chrome Mobile</td>\n",
              "      <td>1</td>\n",
              "      <td>0</td>\n",
              "    </tr>\n",
              "    <tr>\n",
              "      <th>4958</th>\n",
              "      <td>9d958055-c1bf-44bb-ab31-f787ca9e116c</td>\n",
              "      <td>exposed</td>\n",
              "      <td>2020-07-08</td>\n",
              "      <td>20</td>\n",
              "      <td>Generic Smartphone</td>\n",
              "      <td>6</td>\n",
              "      <td>Chrome Mobile</td>\n",
              "      <td>1</td>\n",
              "      <td>0</td>\n",
              "    </tr>\n",
              "    <tr>\n",
              "      <th>5351</th>\n",
              "      <td>a947b7e4-9a07-436e-8af1-8bad8beea172</td>\n",
              "      <td>exposed</td>\n",
              "      <td>2020-07-05</td>\n",
              "      <td>7</td>\n",
              "      <td>Generic Smartphone</td>\n",
              "      <td>6</td>\n",
              "      <td>Chrome Mobile</td>\n",
              "      <td>0</td>\n",
              "      <td>1</td>\n",
              "    </tr>\n",
              "    <tr>\n",
              "      <th>8021</th>\n",
              "      <td>fdbde53d-47f9-4271-bcf3-0ed4efa140b9</td>\n",
              "      <td>exposed</td>\n",
              "      <td>2020-07-09</td>\n",
              "      <td>4</td>\n",
              "      <td>Generic Smartphone</td>\n",
              "      <td>6</td>\n",
              "      <td>Chrome Mobile WebView</td>\n",
              "      <td>1</td>\n",
              "      <td>0</td>\n",
              "    </tr>\n",
              "  </tbody>\n",
              "</table>\n",
              "<p>256 rows × 9 columns</p>\n",
              "</div>\n",
              "      <button class=\"colab-df-convert\" onclick=\"convertToInteractive('df-a1398e9f-370e-481c-99e3-d32dc27583b5')\"\n",
              "              title=\"Convert this dataframe to an interactive table.\"\n",
              "              style=\"display:none;\">\n",
              "        \n",
              "  <svg xmlns=\"http://www.w3.org/2000/svg\" height=\"24px\"viewBox=\"0 0 24 24\"\n",
              "       width=\"24px\">\n",
              "    <path d=\"M0 0h24v24H0V0z\" fill=\"none\"/>\n",
              "    <path d=\"M18.56 5.44l.94 2.06.94-2.06 2.06-.94-2.06-.94-.94-2.06-.94 2.06-2.06.94zm-11 1L8.5 8.5l.94-2.06 2.06-.94-2.06-.94L8.5 2.5l-.94 2.06-2.06.94zm10 10l.94 2.06.94-2.06 2.06-.94-2.06-.94-.94-2.06-.94 2.06-2.06.94z\"/><path d=\"M17.41 7.96l-1.37-1.37c-.4-.4-.92-.59-1.43-.59-.52 0-1.04.2-1.43.59L10.3 9.45l-7.72 7.72c-.78.78-.78 2.05 0 2.83L4 21.41c.39.39.9.59 1.41.59.51 0 1.02-.2 1.41-.59l7.78-7.78 2.81-2.81c.8-.78.8-2.07 0-2.86zM5.41 20L4 18.59l7.72-7.72 1.47 1.35L5.41 20z\"/>\n",
              "  </svg>\n",
              "      </button>\n",
              "      \n",
              "  <style>\n",
              "    .colab-df-container {\n",
              "      display:flex;\n",
              "      flex-wrap:wrap;\n",
              "      gap: 12px;\n",
              "    }\n",
              "\n",
              "    .colab-df-convert {\n",
              "      background-color: #E8F0FE;\n",
              "      border: none;\n",
              "      border-radius: 50%;\n",
              "      cursor: pointer;\n",
              "      display: none;\n",
              "      fill: #1967D2;\n",
              "      height: 32px;\n",
              "      padding: 0 0 0 0;\n",
              "      width: 32px;\n",
              "    }\n",
              "\n",
              "    .colab-df-convert:hover {\n",
              "      background-color: #E2EBFA;\n",
              "      box-shadow: 0px 1px 2px rgba(60, 64, 67, 0.3), 0px 1px 3px 1px rgba(60, 64, 67, 0.15);\n",
              "      fill: #174EA6;\n",
              "    }\n",
              "\n",
              "    [theme=dark] .colab-df-convert {\n",
              "      background-color: #3B4455;\n",
              "      fill: #D2E3FC;\n",
              "    }\n",
              "\n",
              "    [theme=dark] .colab-df-convert:hover {\n",
              "      background-color: #434B5C;\n",
              "      box-shadow: 0px 1px 3px 1px rgba(0, 0, 0, 0.15);\n",
              "      filter: drop-shadow(0px 1px 2px rgba(0, 0, 0, 0.3));\n",
              "      fill: #FFFFFF;\n",
              "    }\n",
              "  </style>\n",
              "\n",
              "      <script>\n",
              "        const buttonEl =\n",
              "          document.querySelector('#df-a1398e9f-370e-481c-99e3-d32dc27583b5 button.colab-df-convert');\n",
              "        buttonEl.style.display =\n",
              "          google.colab.kernel.accessAllowed ? 'block' : 'none';\n",
              "\n",
              "        async function convertToInteractive(key) {\n",
              "          const element = document.querySelector('#df-a1398e9f-370e-481c-99e3-d32dc27583b5');\n",
              "          const dataTable =\n",
              "            await google.colab.kernel.invokeFunction('convertToInteractive',\n",
              "                                                     [key], {});\n",
              "          if (!dataTable) return;\n",
              "\n",
              "          const docLinkHtml = 'Like what you see? Visit the ' +\n",
              "            '<a target=\"_blank\" href=https://colab.research.google.com/notebooks/data_table.ipynb>data table notebook</a>'\n",
              "            + ' to learn more about interactive tables.';\n",
              "          element.innerHTML = '';\n",
              "          dataTable['output_type'] = 'display_data';\n",
              "          await google.colab.output.renderOutput(dataTable, element);\n",
              "          const docLink = document.createElement('div');\n",
              "          docLink.innerHTML = docLinkHtml;\n",
              "          element.appendChild(docLink);\n",
              "        }\n",
              "      </script>\n",
              "    </div>\n",
              "  </div>\n",
              "  "
            ],
            "text/plain": [
              "                                auction_id experiment        date  hour  \\\n",
              "6025  bf518047-40e7-44e0-a653-16fb004dacab    exposed  2020-07-09     9   \n",
              "7470  ec77e672-dc3d-47ed-9fbb-f9f2a2d71ab7    exposed  2020-07-05     9   \n",
              "8059  ffa08ff9-a132-4051-aef5-01a9c79367bc    exposed  2020-07-05    21   \n",
              "4071  82a14bc9-b578-4f25-9bef-137c3136a094    exposed  2020-07-03     9   \n",
              "3119  64f4838d-5f0d-49a1-be79-f261ec4d8ddd    exposed  2020-07-04    17   \n",
              "...                                    ...        ...         ...   ...   \n",
              "3337  6bbc74ed-546f-48b5-bf91-cb8888e96286    exposed  2020-07-05     9   \n",
              "2598  5378e49b-ec5b-46e8-9e43-03ba4a89a3f7    exposed  2020-07-03     1   \n",
              "4958  9d958055-c1bf-44bb-ab31-f787ca9e116c    exposed  2020-07-08    20   \n",
              "5351  a947b7e4-9a07-436e-8af1-8bad8beea172    exposed  2020-07-05     7   \n",
              "8021  fdbde53d-47f9-4271-bcf3-0ed4efa140b9    exposed  2020-07-09     4   \n",
              "\n",
              "             device_make  platform_os                browser  yes  no  \n",
              "6025  Generic Smartphone            6          Chrome Mobile    0   1  \n",
              "7470  Generic Smartphone            6          Chrome Mobile    0   1  \n",
              "8059  Generic Smartphone            6          Chrome Mobile    1   0  \n",
              "4071  Generic Smartphone            6          Chrome Mobile    0   1  \n",
              "3119  Generic Smartphone            6          Chrome Mobile    0   1  \n",
              "...                  ...          ...                    ...  ...  ..  \n",
              "3337    Samsung SM-J530F            6       Samsung Internet    1   0  \n",
              "2598  Generic Smartphone            6          Chrome Mobile    1   0  \n",
              "4958  Generic Smartphone            6          Chrome Mobile    1   0  \n",
              "5351  Generic Smartphone            6          Chrome Mobile    0   1  \n",
              "8021  Generic Smartphone            6  Chrome Mobile WebView    1   0  \n",
              "\n",
              "[256 rows x 9 columns]"
            ]
          },
          "execution_count": 46,
          "metadata": {},
          "output_type": "execute_result"
        }
      ],
      "source": [
        "# mengambil sample treatment\n",
        "sample_treatment = new_data[new_data[\"experiment\"] == \"exposed\"]\n",
        "sample_treatment = sample_treatment.sample(n = 256, random_state = 1)\n",
        "sample_treatment"
      ]
    },
    {
      "cell_type": "code",
      "execution_count": null,
      "metadata": {
        "colab": {
          "base_uri": "https://localhost:8080/",
          "height": 479
        },
        "id": "zqZBNcon3K7J",
        "outputId": "89008546-10cf-4553-e38c-3dd85b8d9a17"
      },
      "outputs": [
        {
          "name": "stderr",
          "output_type": "stream",
          "text": [
            "<ipython-input-68-a13e6d46cf6a>:3: FutureWarning: The frame.append method is deprecated and will be removed from pandas in a future version. Use pandas.concat instead.\n",
            "  sample = sample_control.append(sample_treatment, ignore_index = True)\n"
          ]
        },
        {
          "data": {
            "text/html": [
              "\n",
              "  <div id=\"df-bd9de3c0-58db-4f46-be4a-3c821941a07b\">\n",
              "    <div class=\"colab-df-container\">\n",
              "      <div>\n",
              "<style scoped>\n",
              "    .dataframe tbody tr th:only-of-type {\n",
              "        vertical-align: middle;\n",
              "    }\n",
              "\n",
              "    .dataframe tbody tr th {\n",
              "        vertical-align: top;\n",
              "    }\n",
              "\n",
              "    .dataframe thead th {\n",
              "        text-align: right;\n",
              "    }\n",
              "</style>\n",
              "<table border=\"1\" class=\"dataframe\">\n",
              "  <thead>\n",
              "    <tr style=\"text-align: right;\">\n",
              "      <th></th>\n",
              "      <th>auction_id</th>\n",
              "      <th>experiment</th>\n",
              "      <th>date</th>\n",
              "      <th>hour</th>\n",
              "      <th>device_make</th>\n",
              "      <th>platform_os</th>\n",
              "      <th>browser</th>\n",
              "      <th>yes</th>\n",
              "      <th>no</th>\n",
              "    </tr>\n",
              "  </thead>\n",
              "  <tbody>\n",
              "    <tr>\n",
              "      <th>0</th>\n",
              "      <td>e3d9dd45-d1b7-4502-ab4a-d7f9f3a1c272</td>\n",
              "      <td>control</td>\n",
              "      <td>2020-07-08</td>\n",
              "      <td>19</td>\n",
              "      <td>Samsung SM-G960F</td>\n",
              "      <td>6</td>\n",
              "      <td>Chrome Mobile WebView</td>\n",
              "      <td>0</td>\n",
              "      <td>1</td>\n",
              "    </tr>\n",
              "    <tr>\n",
              "      <th>1</th>\n",
              "      <td>6d0b7da0-7798-4b70-88c2-f94e5ab65cb6</td>\n",
              "      <td>control</td>\n",
              "      <td>2020-07-10</td>\n",
              "      <td>4</td>\n",
              "      <td>Generic Smartphone</td>\n",
              "      <td>6</td>\n",
              "      <td>Chrome Mobile</td>\n",
              "      <td>0</td>\n",
              "      <td>1</td>\n",
              "    </tr>\n",
              "    <tr>\n",
              "      <th>2</th>\n",
              "      <td>0b0344c4-b114-4705-ad68-6662f0d3bedc</td>\n",
              "      <td>control</td>\n",
              "      <td>2020-07-03</td>\n",
              "      <td>15</td>\n",
              "      <td>LG-$2</td>\n",
              "      <td>6</td>\n",
              "      <td>Chrome Mobile</td>\n",
              "      <td>1</td>\n",
              "      <td>0</td>\n",
              "    </tr>\n",
              "    <tr>\n",
              "      <th>3</th>\n",
              "      <td>cb7d4819-501d-471c-ad2b-f4f945eb411e</td>\n",
              "      <td>control</td>\n",
              "      <td>2020-07-09</td>\n",
              "      <td>19</td>\n",
              "      <td>Samsung SM-G960F</td>\n",
              "      <td>6</td>\n",
              "      <td>Samsung Internet</td>\n",
              "      <td>1</td>\n",
              "      <td>0</td>\n",
              "    </tr>\n",
              "    <tr>\n",
              "      <th>4</th>\n",
              "      <td>735d2323-b1f5-4fb8-9893-96a00e3a4e0f</td>\n",
              "      <td>control</td>\n",
              "      <td>2020-07-05</td>\n",
              "      <td>4</td>\n",
              "      <td>Samsung SM-G975F</td>\n",
              "      <td>6</td>\n",
              "      <td>Chrome Mobile WebView</td>\n",
              "      <td>1</td>\n",
              "      <td>0</td>\n",
              "    </tr>\n",
              "    <tr>\n",
              "      <th>...</th>\n",
              "      <td>...</td>\n",
              "      <td>...</td>\n",
              "      <td>...</td>\n",
              "      <td>...</td>\n",
              "      <td>...</td>\n",
              "      <td>...</td>\n",
              "      <td>...</td>\n",
              "      <td>...</td>\n",
              "      <td>...</td>\n",
              "    </tr>\n",
              "    <tr>\n",
              "      <th>507</th>\n",
              "      <td>6bbc74ed-546f-48b5-bf91-cb8888e96286</td>\n",
              "      <td>exposed</td>\n",
              "      <td>2020-07-05</td>\n",
              "      <td>9</td>\n",
              "      <td>Samsung SM-J530F</td>\n",
              "      <td>6</td>\n",
              "      <td>Samsung Internet</td>\n",
              "      <td>1</td>\n",
              "      <td>0</td>\n",
              "    </tr>\n",
              "    <tr>\n",
              "      <th>508</th>\n",
              "      <td>5378e49b-ec5b-46e8-9e43-03ba4a89a3f7</td>\n",
              "      <td>exposed</td>\n",
              "      <td>2020-07-03</td>\n",
              "      <td>1</td>\n",
              "      <td>Generic Smartphone</td>\n",
              "      <td>6</td>\n",
              "      <td>Chrome Mobile</td>\n",
              "      <td>1</td>\n",
              "      <td>0</td>\n",
              "    </tr>\n",
              "    <tr>\n",
              "      <th>509</th>\n",
              "      <td>9d958055-c1bf-44bb-ab31-f787ca9e116c</td>\n",
              "      <td>exposed</td>\n",
              "      <td>2020-07-08</td>\n",
              "      <td>20</td>\n",
              "      <td>Generic Smartphone</td>\n",
              "      <td>6</td>\n",
              "      <td>Chrome Mobile</td>\n",
              "      <td>1</td>\n",
              "      <td>0</td>\n",
              "    </tr>\n",
              "    <tr>\n",
              "      <th>510</th>\n",
              "      <td>a947b7e4-9a07-436e-8af1-8bad8beea172</td>\n",
              "      <td>exposed</td>\n",
              "      <td>2020-07-05</td>\n",
              "      <td>7</td>\n",
              "      <td>Generic Smartphone</td>\n",
              "      <td>6</td>\n",
              "      <td>Chrome Mobile</td>\n",
              "      <td>0</td>\n",
              "      <td>1</td>\n",
              "    </tr>\n",
              "    <tr>\n",
              "      <th>511</th>\n",
              "      <td>fdbde53d-47f9-4271-bcf3-0ed4efa140b9</td>\n",
              "      <td>exposed</td>\n",
              "      <td>2020-07-09</td>\n",
              "      <td>4</td>\n",
              "      <td>Generic Smartphone</td>\n",
              "      <td>6</td>\n",
              "      <td>Chrome Mobile WebView</td>\n",
              "      <td>1</td>\n",
              "      <td>0</td>\n",
              "    </tr>\n",
              "  </tbody>\n",
              "</table>\n",
              "<p>512 rows × 9 columns</p>\n",
              "</div>\n",
              "      <button class=\"colab-df-convert\" onclick=\"convertToInteractive('df-bd9de3c0-58db-4f46-be4a-3c821941a07b')\"\n",
              "              title=\"Convert this dataframe to an interactive table.\"\n",
              "              style=\"display:none;\">\n",
              "        \n",
              "  <svg xmlns=\"http://www.w3.org/2000/svg\" height=\"24px\"viewBox=\"0 0 24 24\"\n",
              "       width=\"24px\">\n",
              "    <path d=\"M0 0h24v24H0V0z\" fill=\"none\"/>\n",
              "    <path d=\"M18.56 5.44l.94 2.06.94-2.06 2.06-.94-2.06-.94-.94-2.06-.94 2.06-2.06.94zm-11 1L8.5 8.5l.94-2.06 2.06-.94-2.06-.94L8.5 2.5l-.94 2.06-2.06.94zm10 10l.94 2.06.94-2.06 2.06-.94-2.06-.94-.94-2.06-.94 2.06-2.06.94z\"/><path d=\"M17.41 7.96l-1.37-1.37c-.4-.4-.92-.59-1.43-.59-.52 0-1.04.2-1.43.59L10.3 9.45l-7.72 7.72c-.78.78-.78 2.05 0 2.83L4 21.41c.39.39.9.59 1.41.59.51 0 1.02-.2 1.41-.59l7.78-7.78 2.81-2.81c.8-.78.8-2.07 0-2.86zM5.41 20L4 18.59l7.72-7.72 1.47 1.35L5.41 20z\"/>\n",
              "  </svg>\n",
              "      </button>\n",
              "      \n",
              "  <style>\n",
              "    .colab-df-container {\n",
              "      display:flex;\n",
              "      flex-wrap:wrap;\n",
              "      gap: 12px;\n",
              "    }\n",
              "\n",
              "    .colab-df-convert {\n",
              "      background-color: #E8F0FE;\n",
              "      border: none;\n",
              "      border-radius: 50%;\n",
              "      cursor: pointer;\n",
              "      display: none;\n",
              "      fill: #1967D2;\n",
              "      height: 32px;\n",
              "      padding: 0 0 0 0;\n",
              "      width: 32px;\n",
              "    }\n",
              "\n",
              "    .colab-df-convert:hover {\n",
              "      background-color: #E2EBFA;\n",
              "      box-shadow: 0px 1px 2px rgba(60, 64, 67, 0.3), 0px 1px 3px 1px rgba(60, 64, 67, 0.15);\n",
              "      fill: #174EA6;\n",
              "    }\n",
              "\n",
              "    [theme=dark] .colab-df-convert {\n",
              "      background-color: #3B4455;\n",
              "      fill: #D2E3FC;\n",
              "    }\n",
              "\n",
              "    [theme=dark] .colab-df-convert:hover {\n",
              "      background-color: #434B5C;\n",
              "      box-shadow: 0px 1px 3px 1px rgba(0, 0, 0, 0.15);\n",
              "      filter: drop-shadow(0px 1px 2px rgba(0, 0, 0, 0.3));\n",
              "      fill: #FFFFFF;\n",
              "    }\n",
              "  </style>\n",
              "\n",
              "      <script>\n",
              "        const buttonEl =\n",
              "          document.querySelector('#df-bd9de3c0-58db-4f46-be4a-3c821941a07b button.colab-df-convert');\n",
              "        buttonEl.style.display =\n",
              "          google.colab.kernel.accessAllowed ? 'block' : 'none';\n",
              "\n",
              "        async function convertToInteractive(key) {\n",
              "          const element = document.querySelector('#df-bd9de3c0-58db-4f46-be4a-3c821941a07b');\n",
              "          const dataTable =\n",
              "            await google.colab.kernel.invokeFunction('convertToInteractive',\n",
              "                                                     [key], {});\n",
              "          if (!dataTable) return;\n",
              "\n",
              "          const docLinkHtml = 'Like what you see? Visit the ' +\n",
              "            '<a target=\"_blank\" href=https://colab.research.google.com/notebooks/data_table.ipynb>data table notebook</a>'\n",
              "            + ' to learn more about interactive tables.';\n",
              "          element.innerHTML = '';\n",
              "          dataTable['output_type'] = 'display_data';\n",
              "          await google.colab.output.renderOutput(dataTable, element);\n",
              "          const docLink = document.createElement('div');\n",
              "          docLink.innerHTML = docLinkHtml;\n",
              "          element.appendChild(docLink);\n",
              "        }\n",
              "      </script>\n",
              "    </div>\n",
              "  </div>\n",
              "  "
            ],
            "text/plain": [
              "                               auction_id experiment        date  hour  \\\n",
              "0    e3d9dd45-d1b7-4502-ab4a-d7f9f3a1c272    control  2020-07-08    19   \n",
              "1    6d0b7da0-7798-4b70-88c2-f94e5ab65cb6    control  2020-07-10     4   \n",
              "2    0b0344c4-b114-4705-ad68-6662f0d3bedc    control  2020-07-03    15   \n",
              "3    cb7d4819-501d-471c-ad2b-f4f945eb411e    control  2020-07-09    19   \n",
              "4    735d2323-b1f5-4fb8-9893-96a00e3a4e0f    control  2020-07-05     4   \n",
              "..                                    ...        ...         ...   ...   \n",
              "507  6bbc74ed-546f-48b5-bf91-cb8888e96286    exposed  2020-07-05     9   \n",
              "508  5378e49b-ec5b-46e8-9e43-03ba4a89a3f7    exposed  2020-07-03     1   \n",
              "509  9d958055-c1bf-44bb-ab31-f787ca9e116c    exposed  2020-07-08    20   \n",
              "510  a947b7e4-9a07-436e-8af1-8bad8beea172    exposed  2020-07-05     7   \n",
              "511  fdbde53d-47f9-4271-bcf3-0ed4efa140b9    exposed  2020-07-09     4   \n",
              "\n",
              "            device_make  platform_os                browser  yes  no  \n",
              "0      Samsung SM-G960F            6  Chrome Mobile WebView    0   1  \n",
              "1    Generic Smartphone            6          Chrome Mobile    0   1  \n",
              "2                 LG-$2            6          Chrome Mobile    1   0  \n",
              "3      Samsung SM-G960F            6       Samsung Internet    1   0  \n",
              "4      Samsung SM-G975F            6  Chrome Mobile WebView    1   0  \n",
              "..                  ...          ...                    ...  ...  ..  \n",
              "507    Samsung SM-J530F            6       Samsung Internet    1   0  \n",
              "508  Generic Smartphone            6          Chrome Mobile    1   0  \n",
              "509  Generic Smartphone            6          Chrome Mobile    1   0  \n",
              "510  Generic Smartphone            6          Chrome Mobile    0   1  \n",
              "511  Generic Smartphone            6  Chrome Mobile WebView    1   0  \n",
              "\n",
              "[512 rows x 9 columns]"
            ]
          },
          "execution_count": 68,
          "metadata": {},
          "output_type": "execute_result"
        }
      ],
      "source": [
        "# menggabungkan dataframe control dan treatment\n",
        "\n",
        "sample = sample_control.append(sample_treatment, ignore_index = True)\n",
        "sample"
      ]
    },
    {
      "cell_type": "markdown",
      "metadata": {
        "id": "TY02rfx0SxeL"
      },
      "source": [
        "**Memastikan Kualitas Data**"
      ]
    },
    {
      "cell_type": "code",
      "execution_count": null,
      "metadata": {
        "colab": {
          "base_uri": "https://localhost:8080/"
        },
        "id": "7Cwn8h5RS_1K",
        "outputId": "e842082d-ef38-4374-97f0-3e0de589bc11"
      },
      "outputs": [
        {
          "data": {
            "text/plain": [
              "auction_id     0\n",
              "experiment     0\n",
              "date           0\n",
              "hour           0\n",
              "device_make    0\n",
              "platform_os    0\n",
              "browser        0\n",
              "yes            0\n",
              "no             0\n",
              "dtype: int64"
            ]
          },
          "execution_count": 69,
          "metadata": {},
          "output_type": "execute_result"
        }
      ],
      "source": [
        "# cek missing value\n",
        "sample.isna().sum()"
      ]
    },
    {
      "cell_type": "code",
      "execution_count": null,
      "metadata": {
        "colab": {
          "base_uri": "https://localhost:8080/"
        },
        "id": "uS1reRlsTc_4",
        "outputId": "1e245bf8-53dd-4cf5-fc35-c096ddba1d16"
      },
      "outputs": [
        {
          "data": {
            "text/plain": [
              "0"
            ]
          },
          "execution_count": 70,
          "metadata": {},
          "output_type": "execute_result"
        }
      ],
      "source": [
        "# cek data duplikat\n",
        "sample.duplicated('auction_id').sum()"
      ]
    },
    {
      "cell_type": "code",
      "execution_count": null,
      "metadata": {
        "colab": {
          "base_uri": "https://localhost:8080/",
          "height": 424
        },
        "id": "sEmAVZXGVo0A",
        "outputId": "683e3110-b925-4645-ed82-40543e43c562"
      },
      "outputs": [
        {
          "data": {
            "text/html": [
              "\n",
              "  <div id=\"df-3de5703f-13c6-4983-bc39-919ddcc4bf24\">\n",
              "    <div class=\"colab-df-container\">\n",
              "      <div>\n",
              "<style scoped>\n",
              "    .dataframe tbody tr th:only-of-type {\n",
              "        vertical-align: middle;\n",
              "    }\n",
              "\n",
              "    .dataframe tbody tr th {\n",
              "        vertical-align: top;\n",
              "    }\n",
              "\n",
              "    .dataframe thead th {\n",
              "        text-align: right;\n",
              "    }\n",
              "</style>\n",
              "<table border=\"1\" class=\"dataframe\">\n",
              "  <thead>\n",
              "    <tr style=\"text-align: right;\">\n",
              "      <th></th>\n",
              "      <th>auction_id</th>\n",
              "      <th>experiment</th>\n",
              "      <th>date</th>\n",
              "      <th>hour</th>\n",
              "      <th>device_make</th>\n",
              "      <th>platform_os</th>\n",
              "      <th>browser</th>\n",
              "      <th>converted</th>\n",
              "    </tr>\n",
              "  </thead>\n",
              "  <tbody>\n",
              "    <tr>\n",
              "      <th>0</th>\n",
              "      <td>e3d9dd45-d1b7-4502-ab4a-d7f9f3a1c272</td>\n",
              "      <td>control</td>\n",
              "      <td>2020-07-08</td>\n",
              "      <td>19</td>\n",
              "      <td>Samsung SM-G960F</td>\n",
              "      <td>6</td>\n",
              "      <td>Chrome Mobile WebView</td>\n",
              "      <td>0</td>\n",
              "    </tr>\n",
              "    <tr>\n",
              "      <th>1</th>\n",
              "      <td>6d0b7da0-7798-4b70-88c2-f94e5ab65cb6</td>\n",
              "      <td>control</td>\n",
              "      <td>2020-07-10</td>\n",
              "      <td>4</td>\n",
              "      <td>Generic Smartphone</td>\n",
              "      <td>6</td>\n",
              "      <td>Chrome Mobile</td>\n",
              "      <td>0</td>\n",
              "    </tr>\n",
              "    <tr>\n",
              "      <th>2</th>\n",
              "      <td>0b0344c4-b114-4705-ad68-6662f0d3bedc</td>\n",
              "      <td>control</td>\n",
              "      <td>2020-07-03</td>\n",
              "      <td>15</td>\n",
              "      <td>LG-$2</td>\n",
              "      <td>6</td>\n",
              "      <td>Chrome Mobile</td>\n",
              "      <td>1</td>\n",
              "    </tr>\n",
              "    <tr>\n",
              "      <th>3</th>\n",
              "      <td>cb7d4819-501d-471c-ad2b-f4f945eb411e</td>\n",
              "      <td>control</td>\n",
              "      <td>2020-07-09</td>\n",
              "      <td>19</td>\n",
              "      <td>Samsung SM-G960F</td>\n",
              "      <td>6</td>\n",
              "      <td>Samsung Internet</td>\n",
              "      <td>1</td>\n",
              "    </tr>\n",
              "    <tr>\n",
              "      <th>4</th>\n",
              "      <td>735d2323-b1f5-4fb8-9893-96a00e3a4e0f</td>\n",
              "      <td>control</td>\n",
              "      <td>2020-07-05</td>\n",
              "      <td>4</td>\n",
              "      <td>Samsung SM-G975F</td>\n",
              "      <td>6</td>\n",
              "      <td>Chrome Mobile WebView</td>\n",
              "      <td>1</td>\n",
              "    </tr>\n",
              "    <tr>\n",
              "      <th>...</th>\n",
              "      <td>...</td>\n",
              "      <td>...</td>\n",
              "      <td>...</td>\n",
              "      <td>...</td>\n",
              "      <td>...</td>\n",
              "      <td>...</td>\n",
              "      <td>...</td>\n",
              "      <td>...</td>\n",
              "    </tr>\n",
              "    <tr>\n",
              "      <th>507</th>\n",
              "      <td>6bbc74ed-546f-48b5-bf91-cb8888e96286</td>\n",
              "      <td>exposed</td>\n",
              "      <td>2020-07-05</td>\n",
              "      <td>9</td>\n",
              "      <td>Samsung SM-J530F</td>\n",
              "      <td>6</td>\n",
              "      <td>Samsung Internet</td>\n",
              "      <td>1</td>\n",
              "    </tr>\n",
              "    <tr>\n",
              "      <th>508</th>\n",
              "      <td>5378e49b-ec5b-46e8-9e43-03ba4a89a3f7</td>\n",
              "      <td>exposed</td>\n",
              "      <td>2020-07-03</td>\n",
              "      <td>1</td>\n",
              "      <td>Generic Smartphone</td>\n",
              "      <td>6</td>\n",
              "      <td>Chrome Mobile</td>\n",
              "      <td>1</td>\n",
              "    </tr>\n",
              "    <tr>\n",
              "      <th>509</th>\n",
              "      <td>9d958055-c1bf-44bb-ab31-f787ca9e116c</td>\n",
              "      <td>exposed</td>\n",
              "      <td>2020-07-08</td>\n",
              "      <td>20</td>\n",
              "      <td>Generic Smartphone</td>\n",
              "      <td>6</td>\n",
              "      <td>Chrome Mobile</td>\n",
              "      <td>1</td>\n",
              "    </tr>\n",
              "    <tr>\n",
              "      <th>510</th>\n",
              "      <td>a947b7e4-9a07-436e-8af1-8bad8beea172</td>\n",
              "      <td>exposed</td>\n",
              "      <td>2020-07-05</td>\n",
              "      <td>7</td>\n",
              "      <td>Generic Smartphone</td>\n",
              "      <td>6</td>\n",
              "      <td>Chrome Mobile</td>\n",
              "      <td>0</td>\n",
              "    </tr>\n",
              "    <tr>\n",
              "      <th>511</th>\n",
              "      <td>fdbde53d-47f9-4271-bcf3-0ed4efa140b9</td>\n",
              "      <td>exposed</td>\n",
              "      <td>2020-07-09</td>\n",
              "      <td>4</td>\n",
              "      <td>Generic Smartphone</td>\n",
              "      <td>6</td>\n",
              "      <td>Chrome Mobile WebView</td>\n",
              "      <td>1</td>\n",
              "    </tr>\n",
              "  </tbody>\n",
              "</table>\n",
              "<p>512 rows × 8 columns</p>\n",
              "</div>\n",
              "      <button class=\"colab-df-convert\" onclick=\"convertToInteractive('df-3de5703f-13c6-4983-bc39-919ddcc4bf24')\"\n",
              "              title=\"Convert this dataframe to an interactive table.\"\n",
              "              style=\"display:none;\">\n",
              "        \n",
              "  <svg xmlns=\"http://www.w3.org/2000/svg\" height=\"24px\"viewBox=\"0 0 24 24\"\n",
              "       width=\"24px\">\n",
              "    <path d=\"M0 0h24v24H0V0z\" fill=\"none\"/>\n",
              "    <path d=\"M18.56 5.44l.94 2.06.94-2.06 2.06-.94-2.06-.94-.94-2.06-.94 2.06-2.06.94zm-11 1L8.5 8.5l.94-2.06 2.06-.94-2.06-.94L8.5 2.5l-.94 2.06-2.06.94zm10 10l.94 2.06.94-2.06 2.06-.94-2.06-.94-.94-2.06-.94 2.06-2.06.94z\"/><path d=\"M17.41 7.96l-1.37-1.37c-.4-.4-.92-.59-1.43-.59-.52 0-1.04.2-1.43.59L10.3 9.45l-7.72 7.72c-.78.78-.78 2.05 0 2.83L4 21.41c.39.39.9.59 1.41.59.51 0 1.02-.2 1.41-.59l7.78-7.78 2.81-2.81c.8-.78.8-2.07 0-2.86zM5.41 20L4 18.59l7.72-7.72 1.47 1.35L5.41 20z\"/>\n",
              "  </svg>\n",
              "      </button>\n",
              "      \n",
              "  <style>\n",
              "    .colab-df-container {\n",
              "      display:flex;\n",
              "      flex-wrap:wrap;\n",
              "      gap: 12px;\n",
              "    }\n",
              "\n",
              "    .colab-df-convert {\n",
              "      background-color: #E8F0FE;\n",
              "      border: none;\n",
              "      border-radius: 50%;\n",
              "      cursor: pointer;\n",
              "      display: none;\n",
              "      fill: #1967D2;\n",
              "      height: 32px;\n",
              "      padding: 0 0 0 0;\n",
              "      width: 32px;\n",
              "    }\n",
              "\n",
              "    .colab-df-convert:hover {\n",
              "      background-color: #E2EBFA;\n",
              "      box-shadow: 0px 1px 2px rgba(60, 64, 67, 0.3), 0px 1px 3px 1px rgba(60, 64, 67, 0.15);\n",
              "      fill: #174EA6;\n",
              "    }\n",
              "\n",
              "    [theme=dark] .colab-df-convert {\n",
              "      background-color: #3B4455;\n",
              "      fill: #D2E3FC;\n",
              "    }\n",
              "\n",
              "    [theme=dark] .colab-df-convert:hover {\n",
              "      background-color: #434B5C;\n",
              "      box-shadow: 0px 1px 3px 1px rgba(0, 0, 0, 0.15);\n",
              "      filter: drop-shadow(0px 1px 2px rgba(0, 0, 0, 0.3));\n",
              "      fill: #FFFFFF;\n",
              "    }\n",
              "  </style>\n",
              "\n",
              "      <script>\n",
              "        const buttonEl =\n",
              "          document.querySelector('#df-3de5703f-13c6-4983-bc39-919ddcc4bf24 button.colab-df-convert');\n",
              "        buttonEl.style.display =\n",
              "          google.colab.kernel.accessAllowed ? 'block' : 'none';\n",
              "\n",
              "        async function convertToInteractive(key) {\n",
              "          const element = document.querySelector('#df-3de5703f-13c6-4983-bc39-919ddcc4bf24');\n",
              "          const dataTable =\n",
              "            await google.colab.kernel.invokeFunction('convertToInteractive',\n",
              "                                                     [key], {});\n",
              "          if (!dataTable) return;\n",
              "\n",
              "          const docLinkHtml = 'Like what you see? Visit the ' +\n",
              "            '<a target=\"_blank\" href=https://colab.research.google.com/notebooks/data_table.ipynb>data table notebook</a>'\n",
              "            + ' to learn more about interactive tables.';\n",
              "          element.innerHTML = '';\n",
              "          dataTable['output_type'] = 'display_data';\n",
              "          await google.colab.output.renderOutput(dataTable, element);\n",
              "          const docLink = document.createElement('div');\n",
              "          docLink.innerHTML = docLinkHtml;\n",
              "          element.appendChild(docLink);\n",
              "        }\n",
              "      </script>\n",
              "    </div>\n",
              "  </div>\n",
              "  "
            ],
            "text/plain": [
              "                               auction_id experiment        date  hour  \\\n",
              "0    e3d9dd45-d1b7-4502-ab4a-d7f9f3a1c272    control  2020-07-08    19   \n",
              "1    6d0b7da0-7798-4b70-88c2-f94e5ab65cb6    control  2020-07-10     4   \n",
              "2    0b0344c4-b114-4705-ad68-6662f0d3bedc    control  2020-07-03    15   \n",
              "3    cb7d4819-501d-471c-ad2b-f4f945eb411e    control  2020-07-09    19   \n",
              "4    735d2323-b1f5-4fb8-9893-96a00e3a4e0f    control  2020-07-05     4   \n",
              "..                                    ...        ...         ...   ...   \n",
              "507  6bbc74ed-546f-48b5-bf91-cb8888e96286    exposed  2020-07-05     9   \n",
              "508  5378e49b-ec5b-46e8-9e43-03ba4a89a3f7    exposed  2020-07-03     1   \n",
              "509  9d958055-c1bf-44bb-ab31-f787ca9e116c    exposed  2020-07-08    20   \n",
              "510  a947b7e4-9a07-436e-8af1-8bad8beea172    exposed  2020-07-05     7   \n",
              "511  fdbde53d-47f9-4271-bcf3-0ed4efa140b9    exposed  2020-07-09     4   \n",
              "\n",
              "            device_make  platform_os                browser  converted  \n",
              "0      Samsung SM-G960F            6  Chrome Mobile WebView          0  \n",
              "1    Generic Smartphone            6          Chrome Mobile          0  \n",
              "2                 LG-$2            6          Chrome Mobile          1  \n",
              "3      Samsung SM-G960F            6       Samsung Internet          1  \n",
              "4      Samsung SM-G975F            6  Chrome Mobile WebView          1  \n",
              "..                  ...          ...                    ...        ...  \n",
              "507    Samsung SM-J530F            6       Samsung Internet          1  \n",
              "508  Generic Smartphone            6          Chrome Mobile          1  \n",
              "509  Generic Smartphone            6          Chrome Mobile          1  \n",
              "510  Generic Smartphone            6          Chrome Mobile          0  \n",
              "511  Generic Smartphone            6  Chrome Mobile WebView          1  \n",
              "\n",
              "[512 rows x 8 columns]"
            ]
          },
          "execution_count": 71,
          "metadata": {},
          "output_type": "execute_result"
        }
      ],
      "source": [
        "# mengubah kolom 'yes' menjadi 'convert': Bernilai 1 jika user memilih tombol 'yes' dan bernilai 0 apabila user memilih tombol 'no'\n",
        "sample.drop('no', axis = 1, inplace = True)\n",
        "sample.rename(columns = {'yes':'converted'}, inplace = True)\n",
        "sample"
      ]
    },
    {
      "cell_type": "markdown",
      "metadata": {
        "id": "tXgyKsC1buMp"
      },
      "source": [
        "**Sample Ratio Mismatch**\n",
        "\n",
        "Pre analysis"
      ]
    },
    {
      "cell_type": "code",
      "execution_count": null,
      "metadata": {
        "colab": {
          "base_uri": "https://localhost:8080/",
          "height": 206
        },
        "id": "AhNbu7afbG-F",
        "outputId": "c2385b1c-b705-4988-f1cb-8f8a777624a3"
      },
      "outputs": [
        {
          "data": {
            "text/html": [
              "\n",
              "  <div id=\"df-fa27959c-354c-4d63-a148-a994b6e2323c\">\n",
              "    <div class=\"colab-df-container\">\n",
              "      <div>\n",
              "<style scoped>\n",
              "    .dataframe tbody tr th:only-of-type {\n",
              "        vertical-align: middle;\n",
              "    }\n",
              "\n",
              "    .dataframe tbody tr th {\n",
              "        vertical-align: top;\n",
              "    }\n",
              "\n",
              "    .dataframe thead th {\n",
              "        text-align: right;\n",
              "    }\n",
              "</style>\n",
              "<table border=\"1\" class=\"dataframe\">\n",
              "  <thead>\n",
              "    <tr style=\"text-align: right;\">\n",
              "      <th></th>\n",
              "      <th>auction_id</th>\n",
              "      <th>experiment</th>\n",
              "      <th>date</th>\n",
              "      <th>hour</th>\n",
              "      <th>device_make</th>\n",
              "      <th>platform_os</th>\n",
              "      <th>browser</th>\n",
              "      <th>converted</th>\n",
              "    </tr>\n",
              "  </thead>\n",
              "  <tbody>\n",
              "    <tr>\n",
              "      <th>0</th>\n",
              "      <td>e3d9dd45-d1b7-4502-ab4a-d7f9f3a1c272</td>\n",
              "      <td>control</td>\n",
              "      <td>2020-07-08</td>\n",
              "      <td>19</td>\n",
              "      <td>Samsung SM-G960F</td>\n",
              "      <td>6</td>\n",
              "      <td>Chrome Mobile WebView</td>\n",
              "      <td>0</td>\n",
              "    </tr>\n",
              "    <tr>\n",
              "      <th>1</th>\n",
              "      <td>6d0b7da0-7798-4b70-88c2-f94e5ab65cb6</td>\n",
              "      <td>control</td>\n",
              "      <td>2020-07-10</td>\n",
              "      <td>4</td>\n",
              "      <td>Generic Smartphone</td>\n",
              "      <td>6</td>\n",
              "      <td>Chrome Mobile</td>\n",
              "      <td>0</td>\n",
              "    </tr>\n",
              "    <tr>\n",
              "      <th>2</th>\n",
              "      <td>0b0344c4-b114-4705-ad68-6662f0d3bedc</td>\n",
              "      <td>control</td>\n",
              "      <td>2020-07-03</td>\n",
              "      <td>15</td>\n",
              "      <td>LG-$2</td>\n",
              "      <td>6</td>\n",
              "      <td>Chrome Mobile</td>\n",
              "      <td>1</td>\n",
              "    </tr>\n",
              "    <tr>\n",
              "      <th>3</th>\n",
              "      <td>cb7d4819-501d-471c-ad2b-f4f945eb411e</td>\n",
              "      <td>control</td>\n",
              "      <td>2020-07-09</td>\n",
              "      <td>19</td>\n",
              "      <td>Samsung SM-G960F</td>\n",
              "      <td>6</td>\n",
              "      <td>Samsung Internet</td>\n",
              "      <td>1</td>\n",
              "    </tr>\n",
              "    <tr>\n",
              "      <th>4</th>\n",
              "      <td>735d2323-b1f5-4fb8-9893-96a00e3a4e0f</td>\n",
              "      <td>control</td>\n",
              "      <td>2020-07-05</td>\n",
              "      <td>4</td>\n",
              "      <td>Samsung SM-G975F</td>\n",
              "      <td>6</td>\n",
              "      <td>Chrome Mobile WebView</td>\n",
              "      <td>1</td>\n",
              "    </tr>\n",
              "  </tbody>\n",
              "</table>\n",
              "</div>\n",
              "      <button class=\"colab-df-convert\" onclick=\"convertToInteractive('df-fa27959c-354c-4d63-a148-a994b6e2323c')\"\n",
              "              title=\"Convert this dataframe to an interactive table.\"\n",
              "              style=\"display:none;\">\n",
              "        \n",
              "  <svg xmlns=\"http://www.w3.org/2000/svg\" height=\"24px\"viewBox=\"0 0 24 24\"\n",
              "       width=\"24px\">\n",
              "    <path d=\"M0 0h24v24H0V0z\" fill=\"none\"/>\n",
              "    <path d=\"M18.56 5.44l.94 2.06.94-2.06 2.06-.94-2.06-.94-.94-2.06-.94 2.06-2.06.94zm-11 1L8.5 8.5l.94-2.06 2.06-.94-2.06-.94L8.5 2.5l-.94 2.06-2.06.94zm10 10l.94 2.06.94-2.06 2.06-.94-2.06-.94-.94-2.06-.94 2.06-2.06.94z\"/><path d=\"M17.41 7.96l-1.37-1.37c-.4-.4-.92-.59-1.43-.59-.52 0-1.04.2-1.43.59L10.3 9.45l-7.72 7.72c-.78.78-.78 2.05 0 2.83L4 21.41c.39.39.9.59 1.41.59.51 0 1.02-.2 1.41-.59l7.78-7.78 2.81-2.81c.8-.78.8-2.07 0-2.86zM5.41 20L4 18.59l7.72-7.72 1.47 1.35L5.41 20z\"/>\n",
              "  </svg>\n",
              "      </button>\n",
              "      \n",
              "  <style>\n",
              "    .colab-df-container {\n",
              "      display:flex;\n",
              "      flex-wrap:wrap;\n",
              "      gap: 12px;\n",
              "    }\n",
              "\n",
              "    .colab-df-convert {\n",
              "      background-color: #E8F0FE;\n",
              "      border: none;\n",
              "      border-radius: 50%;\n",
              "      cursor: pointer;\n",
              "      display: none;\n",
              "      fill: #1967D2;\n",
              "      height: 32px;\n",
              "      padding: 0 0 0 0;\n",
              "      width: 32px;\n",
              "    }\n",
              "\n",
              "    .colab-df-convert:hover {\n",
              "      background-color: #E2EBFA;\n",
              "      box-shadow: 0px 1px 2px rgba(60, 64, 67, 0.3), 0px 1px 3px 1px rgba(60, 64, 67, 0.15);\n",
              "      fill: #174EA6;\n",
              "    }\n",
              "\n",
              "    [theme=dark] .colab-df-convert {\n",
              "      background-color: #3B4455;\n",
              "      fill: #D2E3FC;\n",
              "    }\n",
              "\n",
              "    [theme=dark] .colab-df-convert:hover {\n",
              "      background-color: #434B5C;\n",
              "      box-shadow: 0px 1px 3px 1px rgba(0, 0, 0, 0.15);\n",
              "      filter: drop-shadow(0px 1px 2px rgba(0, 0, 0, 0.3));\n",
              "      fill: #FFFFFF;\n",
              "    }\n",
              "  </style>\n",
              "\n",
              "      <script>\n",
              "        const buttonEl =\n",
              "          document.querySelector('#df-fa27959c-354c-4d63-a148-a994b6e2323c button.colab-df-convert');\n",
              "        buttonEl.style.display =\n",
              "          google.colab.kernel.accessAllowed ? 'block' : 'none';\n",
              "\n",
              "        async function convertToInteractive(key) {\n",
              "          const element = document.querySelector('#df-fa27959c-354c-4d63-a148-a994b6e2323c');\n",
              "          const dataTable =\n",
              "            await google.colab.kernel.invokeFunction('convertToInteractive',\n",
              "                                                     [key], {});\n",
              "          if (!dataTable) return;\n",
              "\n",
              "          const docLinkHtml = 'Like what you see? Visit the ' +\n",
              "            '<a target=\"_blank\" href=https://colab.research.google.com/notebooks/data_table.ipynb>data table notebook</a>'\n",
              "            + ' to learn more about interactive tables.';\n",
              "          element.innerHTML = '';\n",
              "          dataTable['output_type'] = 'display_data';\n",
              "          await google.colab.output.renderOutput(dataTable, element);\n",
              "          const docLink = document.createElement('div');\n",
              "          docLink.innerHTML = docLinkHtml;\n",
              "          element.appendChild(docLink);\n",
              "        }\n",
              "      </script>\n",
              "    </div>\n",
              "  </div>\n",
              "  "
            ],
            "text/plain": [
              "                             auction_id experiment        date  hour  \\\n",
              "0  e3d9dd45-d1b7-4502-ab4a-d7f9f3a1c272    control  2020-07-08    19   \n",
              "1  6d0b7da0-7798-4b70-88c2-f94e5ab65cb6    control  2020-07-10     4   \n",
              "2  0b0344c4-b114-4705-ad68-6662f0d3bedc    control  2020-07-03    15   \n",
              "3  cb7d4819-501d-471c-ad2b-f4f945eb411e    control  2020-07-09    19   \n",
              "4  735d2323-b1f5-4fb8-9893-96a00e3a4e0f    control  2020-07-05     4   \n",
              "\n",
              "          device_make  platform_os                browser  converted  \n",
              "0    Samsung SM-G960F            6  Chrome Mobile WebView          0  \n",
              "1  Generic Smartphone            6          Chrome Mobile          0  \n",
              "2               LG-$2            6          Chrome Mobile          1  \n",
              "3    Samsung SM-G960F            6       Samsung Internet          1  \n",
              "4    Samsung SM-G975F            6  Chrome Mobile WebView          1  "
            ]
          },
          "execution_count": 72,
          "metadata": {},
          "output_type": "execute_result"
        }
      ],
      "source": [
        "# membuat data control\n",
        "data_control = sample[sample['experiment'] == 'control']\n",
        "data_control.head()"
      ]
    },
    {
      "cell_type": "code",
      "execution_count": null,
      "metadata": {
        "colab": {
          "base_uri": "https://localhost:8080/",
          "height": 206
        },
        "id": "V3U-3UthcaRz",
        "outputId": "50f56b0a-da1c-447e-9f36-b2f245cf360d"
      },
      "outputs": [
        {
          "data": {
            "text/html": [
              "\n",
              "  <div id=\"df-e3be9b2b-1028-4c46-a113-89adcb01e277\">\n",
              "    <div class=\"colab-df-container\">\n",
              "      <div>\n",
              "<style scoped>\n",
              "    .dataframe tbody tr th:only-of-type {\n",
              "        vertical-align: middle;\n",
              "    }\n",
              "\n",
              "    .dataframe tbody tr th {\n",
              "        vertical-align: top;\n",
              "    }\n",
              "\n",
              "    .dataframe thead th {\n",
              "        text-align: right;\n",
              "    }\n",
              "</style>\n",
              "<table border=\"1\" class=\"dataframe\">\n",
              "  <thead>\n",
              "    <tr style=\"text-align: right;\">\n",
              "      <th></th>\n",
              "      <th>auction_id</th>\n",
              "      <th>experiment</th>\n",
              "      <th>date</th>\n",
              "      <th>hour</th>\n",
              "      <th>device_make</th>\n",
              "      <th>platform_os</th>\n",
              "      <th>browser</th>\n",
              "      <th>converted</th>\n",
              "    </tr>\n",
              "  </thead>\n",
              "  <tbody>\n",
              "    <tr>\n",
              "      <th>256</th>\n",
              "      <td>bf518047-40e7-44e0-a653-16fb004dacab</td>\n",
              "      <td>exposed</td>\n",
              "      <td>2020-07-09</td>\n",
              "      <td>9</td>\n",
              "      <td>Generic Smartphone</td>\n",
              "      <td>6</td>\n",
              "      <td>Chrome Mobile</td>\n",
              "      <td>0</td>\n",
              "    </tr>\n",
              "    <tr>\n",
              "      <th>257</th>\n",
              "      <td>ec77e672-dc3d-47ed-9fbb-f9f2a2d71ab7</td>\n",
              "      <td>exposed</td>\n",
              "      <td>2020-07-05</td>\n",
              "      <td>9</td>\n",
              "      <td>Generic Smartphone</td>\n",
              "      <td>6</td>\n",
              "      <td>Chrome Mobile</td>\n",
              "      <td>0</td>\n",
              "    </tr>\n",
              "    <tr>\n",
              "      <th>258</th>\n",
              "      <td>ffa08ff9-a132-4051-aef5-01a9c79367bc</td>\n",
              "      <td>exposed</td>\n",
              "      <td>2020-07-05</td>\n",
              "      <td>21</td>\n",
              "      <td>Generic Smartphone</td>\n",
              "      <td>6</td>\n",
              "      <td>Chrome Mobile</td>\n",
              "      <td>1</td>\n",
              "    </tr>\n",
              "    <tr>\n",
              "      <th>259</th>\n",
              "      <td>82a14bc9-b578-4f25-9bef-137c3136a094</td>\n",
              "      <td>exposed</td>\n",
              "      <td>2020-07-03</td>\n",
              "      <td>9</td>\n",
              "      <td>Generic Smartphone</td>\n",
              "      <td>6</td>\n",
              "      <td>Chrome Mobile</td>\n",
              "      <td>0</td>\n",
              "    </tr>\n",
              "    <tr>\n",
              "      <th>260</th>\n",
              "      <td>64f4838d-5f0d-49a1-be79-f261ec4d8ddd</td>\n",
              "      <td>exposed</td>\n",
              "      <td>2020-07-04</td>\n",
              "      <td>17</td>\n",
              "      <td>Generic Smartphone</td>\n",
              "      <td>6</td>\n",
              "      <td>Chrome Mobile</td>\n",
              "      <td>0</td>\n",
              "    </tr>\n",
              "  </tbody>\n",
              "</table>\n",
              "</div>\n",
              "      <button class=\"colab-df-convert\" onclick=\"convertToInteractive('df-e3be9b2b-1028-4c46-a113-89adcb01e277')\"\n",
              "              title=\"Convert this dataframe to an interactive table.\"\n",
              "              style=\"display:none;\">\n",
              "        \n",
              "  <svg xmlns=\"http://www.w3.org/2000/svg\" height=\"24px\"viewBox=\"0 0 24 24\"\n",
              "       width=\"24px\">\n",
              "    <path d=\"M0 0h24v24H0V0z\" fill=\"none\"/>\n",
              "    <path d=\"M18.56 5.44l.94 2.06.94-2.06 2.06-.94-2.06-.94-.94-2.06-.94 2.06-2.06.94zm-11 1L8.5 8.5l.94-2.06 2.06-.94-2.06-.94L8.5 2.5l-.94 2.06-2.06.94zm10 10l.94 2.06.94-2.06 2.06-.94-2.06-.94-.94-2.06-.94 2.06-2.06.94z\"/><path d=\"M17.41 7.96l-1.37-1.37c-.4-.4-.92-.59-1.43-.59-.52 0-1.04.2-1.43.59L10.3 9.45l-7.72 7.72c-.78.78-.78 2.05 0 2.83L4 21.41c.39.39.9.59 1.41.59.51 0 1.02-.2 1.41-.59l7.78-7.78 2.81-2.81c.8-.78.8-2.07 0-2.86zM5.41 20L4 18.59l7.72-7.72 1.47 1.35L5.41 20z\"/>\n",
              "  </svg>\n",
              "      </button>\n",
              "      \n",
              "  <style>\n",
              "    .colab-df-container {\n",
              "      display:flex;\n",
              "      flex-wrap:wrap;\n",
              "      gap: 12px;\n",
              "    }\n",
              "\n",
              "    .colab-df-convert {\n",
              "      background-color: #E8F0FE;\n",
              "      border: none;\n",
              "      border-radius: 50%;\n",
              "      cursor: pointer;\n",
              "      display: none;\n",
              "      fill: #1967D2;\n",
              "      height: 32px;\n",
              "      padding: 0 0 0 0;\n",
              "      width: 32px;\n",
              "    }\n",
              "\n",
              "    .colab-df-convert:hover {\n",
              "      background-color: #E2EBFA;\n",
              "      box-shadow: 0px 1px 2px rgba(60, 64, 67, 0.3), 0px 1px 3px 1px rgba(60, 64, 67, 0.15);\n",
              "      fill: #174EA6;\n",
              "    }\n",
              "\n",
              "    [theme=dark] .colab-df-convert {\n",
              "      background-color: #3B4455;\n",
              "      fill: #D2E3FC;\n",
              "    }\n",
              "\n",
              "    [theme=dark] .colab-df-convert:hover {\n",
              "      background-color: #434B5C;\n",
              "      box-shadow: 0px 1px 3px 1px rgba(0, 0, 0, 0.15);\n",
              "      filter: drop-shadow(0px 1px 2px rgba(0, 0, 0, 0.3));\n",
              "      fill: #FFFFFF;\n",
              "    }\n",
              "  </style>\n",
              "\n",
              "      <script>\n",
              "        const buttonEl =\n",
              "          document.querySelector('#df-e3be9b2b-1028-4c46-a113-89adcb01e277 button.colab-df-convert');\n",
              "        buttonEl.style.display =\n",
              "          google.colab.kernel.accessAllowed ? 'block' : 'none';\n",
              "\n",
              "        async function convertToInteractive(key) {\n",
              "          const element = document.querySelector('#df-e3be9b2b-1028-4c46-a113-89adcb01e277');\n",
              "          const dataTable =\n",
              "            await google.colab.kernel.invokeFunction('convertToInteractive',\n",
              "                                                     [key], {});\n",
              "          if (!dataTable) return;\n",
              "\n",
              "          const docLinkHtml = 'Like what you see? Visit the ' +\n",
              "            '<a target=\"_blank\" href=https://colab.research.google.com/notebooks/data_table.ipynb>data table notebook</a>'\n",
              "            + ' to learn more about interactive tables.';\n",
              "          element.innerHTML = '';\n",
              "          dataTable['output_type'] = 'display_data';\n",
              "          await google.colab.output.renderOutput(dataTable, element);\n",
              "          const docLink = document.createElement('div');\n",
              "          docLink.innerHTML = docLinkHtml;\n",
              "          element.appendChild(docLink);\n",
              "        }\n",
              "      </script>\n",
              "    </div>\n",
              "  </div>\n",
              "  "
            ],
            "text/plain": [
              "                               auction_id experiment        date  hour  \\\n",
              "256  bf518047-40e7-44e0-a653-16fb004dacab    exposed  2020-07-09     9   \n",
              "257  ec77e672-dc3d-47ed-9fbb-f9f2a2d71ab7    exposed  2020-07-05     9   \n",
              "258  ffa08ff9-a132-4051-aef5-01a9c79367bc    exposed  2020-07-05    21   \n",
              "259  82a14bc9-b578-4f25-9bef-137c3136a094    exposed  2020-07-03     9   \n",
              "260  64f4838d-5f0d-49a1-be79-f261ec4d8ddd    exposed  2020-07-04    17   \n",
              "\n",
              "            device_make  platform_os        browser  converted  \n",
              "256  Generic Smartphone            6  Chrome Mobile          0  \n",
              "257  Generic Smartphone            6  Chrome Mobile          0  \n",
              "258  Generic Smartphone            6  Chrome Mobile          1  \n",
              "259  Generic Smartphone            6  Chrome Mobile          0  \n",
              "260  Generic Smartphone            6  Chrome Mobile          0  "
            ]
          },
          "execution_count": 73,
          "metadata": {},
          "output_type": "execute_result"
        }
      ],
      "source": [
        "# membuat data treatment\n",
        "data_treatment = sample[sample['experiment'] == 'exposed']\n",
        "data_treatment.head()"
      ]
    },
    {
      "cell_type": "code",
      "execution_count": null,
      "metadata": {
        "colab": {
          "base_uri": "https://localhost:8080/"
        },
        "id": "FSwcIYjDgLpj",
        "outputId": "f9788421-8d6d-4d78-abe8-5d4cd55e4ced"
      },
      "outputs": [
        {
          "name": "stdout",
          "output_type": "stream",
          "text": [
            "Jumlah users di kelompok control    : 256 users\n",
            "Jumlah users di kelompok treatment  : 256 users\n"
          ]
        }
      ],
      "source": [
        "# menghitung jumlah user di control dan treatment group\n",
        "\n",
        "n_control = data_control.shape[0]\n",
        "n_treatment = data_treatment.shape[0]\n",
        "\n",
        "print(f'Jumlah users di kelompok control    : {n_control} users')\n",
        "print(f'Jumlah users di kelompok treatment  : {n_treatment} users')"
      ]
    },
    {
      "cell_type": "code",
      "execution_count": null,
      "metadata": {
        "colab": {
          "base_uri": "https://localhost:8080/"
        },
        "id": "1NJAjmJzmQ7X",
        "outputId": "00b79b90-1a99-4451-fbd7-11db75d54704"
      },
      "outputs": [
        {
          "name": "stdout",
          "output_type": "stream",
          "text": [
            "% control   : 50.00%\n",
            "% treatment : 50.00%\n"
          ]
        }
      ],
      "source": [
        "# percentase di tiap grup\n",
        "n_total = sample.shape[0]\n",
        "persen_control = n_control/n_total * 100\n",
        "persen_treat = n_treatment/n_total * 100\n",
        "\n",
        "print(f\"% control   : {persen_control:.2f}%\")\n",
        "print(f\"% treatment : {persen_treat:.2f}%\")"
      ]
    },
    {
      "cell_type": "code",
      "execution_count": null,
      "metadata": {
        "id": "XVRgVVMn5NlL"
      },
      "outputs": [],
      "source": [
        "# membuat variabel observed dan expected value\n",
        "observed = [ n_control, n_treatment ]\n",
        "total_traffic= sum(observed)\n",
        "expected = [ total_traffic/2, total_traffic/2 ]"
      ]
    },
    {
      "cell_type": "code",
      "execution_count": null,
      "metadata": {
        "colab": {
          "base_uri": "https://localhost:8080/"
        },
        "id": "xz0sZP5kmUj3",
        "outputId": "54670ad1-3966-4bd3-af2a-90a201bad66f"
      },
      "outputs": [
        {
          "name": "stdout",
          "output_type": "stream",
          "text": [
            "Power_divergenceResult(statistic=0.0, pvalue=1.0)\n"
          ]
        }
      ],
      "source": [
        "# menghitung chi-square statistics\n",
        "chi = chisquare(observed, f_exp=expected)\n",
        "print(chi)"
      ]
    },
    {
      "cell_type": "code",
      "execution_count": null,
      "metadata": {
        "colab": {
          "base_uri": "https://localhost:8080/"
        },
        "id": "8yBvx2CtmbSC",
        "outputId": "97da7b71-d46c-4761-a9f4-7782b27a84b5"
      },
      "outputs": [
        {
          "name": "stdout",
          "output_type": "stream",
          "text": [
            "Critical value: 6.635\n"
          ]
        }
      ],
      "source": [
        "# perbandingan chi-square statistics dengan critical value\n",
        "# kita harus menghitung critical value terlebih dahulu\n",
        "\n",
        "alpha = 0.01\n",
        "df=(2-1)*(2-1)  \n",
        "\n",
        "chi_critical = scipy.stats.chi2.ppf(1 - alpha, df)\n",
        "print(f\"Critical value: {chi_critical:.3f}\")"
      ]
    },
    {
      "cell_type": "code",
      "execution_count": null,
      "metadata": {
        "colab": {
          "base_uri": "https://localhost:8080/"
        },
        "id": "GWXaAjhzmihx",
        "outputId": "f1b480d3-8494-4b0c-80e9-8542007a76da"
      },
      "outputs": [
        {
          "name": "stdout",
          "output_type": "stream",
          "text": [
            "Gagal menolak H0 : Tidak ada SRM\n"
          ]
        }
      ],
      "source": [
        "# Membuat keputusan dari chi-square statistics dan critical value\n",
        "if chi[0] > chi_critical:\n",
        "  print(\"Tolak H0 : Adanya kemungkinan SRM.\")\n",
        "else:\n",
        "  print(\"Gagal menolak H0 : Tidak ada SRM\")"
      ]
    },
    {
      "cell_type": "code",
      "execution_count": null,
      "metadata": {
        "colab": {
          "base_uri": "https://localhost:8080/"
        },
        "id": "v_yoziJZmlZm",
        "outputId": "7e8f13ff-68e3-4138-df4a-05b4681454a2"
      },
      "outputs": [
        {
          "name": "stdout",
          "output_type": "stream",
          "text": [
            "Gagal menolak H0 : Tidak ada SRM\n"
          ]
        }
      ],
      "source": [
        "# Comparison of P-Value with alpha.\n",
        "if chi[1] < 0.01:\n",
        "  print(\"Tolak H0 : Adanya kemungkinan SRM.\")\n",
        "else:\n",
        "  print(\"Gagal menolak H0 : Tidak ada SRM\")"
      ]
    },
    {
      "cell_type": "markdown",
      "metadata": {
        "id": "GeVcWxnbCdne"
      },
      "source": [
        "Berdasarkan pengecekan kualitas data dan SRM, data yang digunakan pada eksperimen ini sudah bersih dan siap digunakan untuk dianalisis."
      ]
    },
    {
      "cell_type": "markdown",
      "metadata": {
        "id": "kHLrxOExC9Qc"
      },
      "source": [
        "**Analisis Data**"
      ]
    },
    {
      "cell_type": "markdown",
      "metadata": {
        "id": "xgFFbPt5GKVl"
      },
      "source": [
        "Kita ingin mengisi tabel berikut.\n",
        "\n",
        "<center>\n",
        "\n",
        "|Group|Banyak User|Count Converted|Conversion Rate|\n",
        "|:--|:--:|:--:|:--:|\n",
        "|Control|-|-|-|\n",
        "|Treatment|-|-|-|\n",
        "\n",
        "</center>"
      ]
    },
    {
      "cell_type": "markdown",
      "metadata": {
        "id": "CUMKS4ZOIOnb"
      },
      "source": [
        "Di section sebelumnya kita sudah menghitung banyaknya user control dan treatment adalah 256. Selanjutnya kita akan menghitung jumlah user yang converted dan conversion rate-nya."
      ]
    },
    {
      "cell_type": "markdown",
      "metadata": {
        "id": "Yeg7IgmGIRNT"
      },
      "source": [
        "<center>\n",
        "\n",
        "|Group|Banyak User|Count Converted|Conversion Rate|\n",
        "|:--|:--:|:--:|:--:|\n",
        "|Control|256|-|-|\n",
        "|Treatment|256|-|-|\n",
        "\n",
        "</center>"
      ]
    },
    {
      "cell_type": "code",
      "execution_count": null,
      "metadata": {
        "colab": {
          "base_uri": "https://localhost:8080/"
        },
        "id": "3_9jB5sNI00t",
        "outputId": "d30f5364-03cb-4d01-ee84-7ecd5613279f"
      },
      "outputs": [
        {
          "data": {
            "text/plain": [
              "127"
            ]
          },
          "execution_count": 81,
          "metadata": {},
          "output_type": "execute_result"
        }
      ],
      "source": [
        "# banyak user convert di group control\n",
        "\n",
        "# cari data group control yang convert\n",
        "data_control_convert = data_control[data_control[\"converted\"] == 1]\n",
        "\n",
        "# hitung banyak data yang convert\n",
        "n_control_convert = data_control_convert.shape[0]\n",
        "\n",
        "n_control_convert"
      ]
    },
    {
      "cell_type": "code",
      "execution_count": null,
      "metadata": {
        "colab": {
          "base_uri": "https://localhost:8080/"
        },
        "id": "3eQ7TUhtKFh_",
        "outputId": "ede9e3d7-39ca-4bf7-f85d-8d41e1cb8ae4"
      },
      "outputs": [
        {
          "data": {
            "text/plain": [
              "116"
            ]
          },
          "execution_count": 82,
          "metadata": {},
          "output_type": "execute_result"
        }
      ],
      "source": [
        "# banyak user convert di group treatment\n",
        "\n",
        "# cari data group treatment yang convert\n",
        "data_treatment_convert = data_treatment[data_treatment[\"converted\"] == 1]\n",
        "\n",
        "# hitung banyak data yang convert\n",
        "n_treatment_convert = data_treatment_convert.shape[0]\n",
        "\n",
        "n_treatment_convert"
      ]
    },
    {
      "cell_type": "code",
      "execution_count": null,
      "metadata": {
        "colab": {
          "base_uri": "https://localhost:8080/"
        },
        "id": "RjixUU-0KJED",
        "outputId": "f039319b-a1ba-4a2b-cb22-52e4981e1637"
      },
      "outputs": [
        {
          "data": {
            "text/plain": [
              "0.49609375"
            ]
          },
          "execution_count": 120,
          "metadata": {},
          "output_type": "execute_result"
        }
      ],
      "source": [
        "# conversion rate user control\n",
        "cr_control = n_control_convert / n_control\n",
        "cr_control"
      ]
    },
    {
      "cell_type": "code",
      "execution_count": null,
      "metadata": {
        "colab": {
          "base_uri": "https://localhost:8080/"
        },
        "id": "PI23e_BVKceN",
        "outputId": "9ec2c46f-26b9-448d-fe07-d1f28ff29237"
      },
      "outputs": [
        {
          "data": {
            "text/plain": [
              "0.453125"
            ]
          },
          "execution_count": 119,
          "metadata": {},
          "output_type": "execute_result"
        }
      ],
      "source": [
        "# conversion rate user treatment\n",
        "cr_treatment = n_treatment_convert / n_treatment\n",
        "cr_treatment"
      ]
    },
    {
      "cell_type": "markdown",
      "metadata": {
        "id": "b9mhgSXiKNBb"
      },
      "source": [
        "<center>\n",
        "\n",
        "|Group|Banyak User|Count Converted|Conversion Rate|\n",
        "|:--|:--:|:--:|:--:|\n",
        "|Control|256|127|0.49609375|\n",
        "|Treatment|256|116|0.453125|\n",
        "\n",
        "</center>"
      ]
    },
    {
      "cell_type": "code",
      "execution_count": null,
      "metadata": {
        "colab": {
          "base_uri": "https://localhost:8080/",
          "height": 667
        },
        "id": "bVpOKLccLnwP",
        "outputId": "3b70727e-0750-4e39-c625-204123bb01bb"
      },
      "outputs": [
        {
          "name": "stderr",
          "output_type": "stream",
          "text": [
            "<ipython-input-90-8c1d1d4326d4>:12: UserWarning: FixedFormatter should only be used together with FixedLocator\n",
            "  ax.set_xticklabels(labels=[\"control\", \"treatment\"], fontsize=16)\n"
          ]
        },
        {
          "data": {
            "image/png": "[encoded data removed]",
            "text/plain": [
              "<Figure size 1000x700 with 1 Axes>"
            ]
          },
          "metadata": {},
          "output_type": "display_data"
        }
      ],
      "source": [
        "# dalam visualisasi\n",
        "# visualisasi perbandingan conversion rate tiap varian\n",
        "fig, ax = plt.subplots(nrows=1, ncols=1, figsize=(10, 7))\n",
        "\n",
        "# buat plot\n",
        "ax.bar(\"control\", cr_control, color=\"steelblue\", label=\"Control\")\n",
        "ax.bar(\"treatment\", cr_treatment, color=\"lightcoral\", label=\"Treatment\")\n",
        "\n",
        "# styling plot\n",
        "ax.set_ylabel(\"Conversion Rate\", fontsize=16)\n",
        "ax.set_xlabel(\"Group\", fontsize=16)\n",
        "ax.set_xticklabels(labels=[\"control\", \"treatment\"], fontsize=16)\n",
        "ax.legend(fontsize=16)\n",
        "plt.show()"
      ]
    },
    {
      "cell_type": "markdown",
      "metadata": {
        "id": "-LDZfLM0L2X5"
      },
      "source": [
        "Secara visual dan perhitungan, control variant memiliki conversion rate lebih tinggi dibandingkan dengan treatment variant. Untuk memastikan bahwa keputusan yang diambil tidak salah, perlu dilakukan uji statistik untuk membuktikan apakah perbedaan conversion rate 2 kelompok tersebut signifikan secara statistik"
      ]
    },
    {
      "cell_type": "markdown",
      "metadata": {
        "id": "OPIlUKFXMX08"
      },
      "source": [
        "**Uji Statistik**"
      ]
    },
    {
      "cell_type": "markdown",
      "metadata": {
        "id": "fCzQ0eAvh3Ph"
      },
      "source": [
        "Kita ingin membuktikan conversion rate user yang terekspos dengan interactive ad lebih besar dari conversion rate user yang terekspos dengan dummy ad.\n",
        "\n",
        "Maka kita bisa mendefinisikan Null hypothesis ($H_0$) dan Alternative hypothesis ($H_1$)"
      ]
    },
    {
      "cell_type": "markdown",
      "metadata": {
        "id": "iSZWrKSXbLxR"
      },
      "source": [
        "$H_{0}$: $CR_{\\text{new}}$ ≤ $CR_{\\text{old}}$\n",
        "\n",
        "$H_{1}$: $CR_{\\text{new}}$ > $CR_{\\text{old}}$"
      ]
    },
    {
      "cell_type": "code",
      "execution_count": null,
      "metadata": {
        "id": "QD1uNqKJNsaL"
      },
      "outputs": [],
      "source": [
        "# buat count convert & total observation\n",
        "# variabel total observation sudah kita buat dengan nama 'observed'\n",
        "count_convert = [n_treatment_convert,n_control_convert]"
      ]
    },
    {
      "cell_type": "code",
      "execution_count": null,
      "metadata": {
        "id": "y690pFoaOEam"
      },
      "outputs": [],
      "source": [
        "# buat alternative\n",
        "alternative_option = \"larger\""
      ]
    },
    {
      "cell_type": "code",
      "execution_count": null,
      "metadata": {
        "colab": {
          "base_uri": "https://localhost:8080/"
        },
        "id": "vGZVnCRtOHFd",
        "outputId": "3cb80475-90cc-45ae-e95c-afc5a4617674"
      },
      "outputs": [
        {
          "name": "stdout",
          "output_type": "stream",
          "text": [
            "Z stats : -0.9735\n",
            "P-value : 0.8349\n"
          ]
        }
      ],
      "source": [
        "# panggil fungsi\n",
        "z_stat, p_value = proportions_ztest(count = count_convert,\n",
        "                                    nobs = observed,\n",
        "                                    alternative = alternative_option)\n",
        "\n",
        "print(f\"Z stats : {z_stat:.4f}\")\n",
        "print(f\"P-value : {p_value:.4f}\")"
      ]
    },
    {
      "cell_type": "code",
      "execution_count": null,
      "metadata": {
        "colab": {
          "base_uri": "https://localhost:8080/"
        },
        "id": "_gX4bLtSaG2p",
        "outputId": "50e5c911-60a9-4897-b30c-1af89f344c11"
      },
      "outputs": [
        {
          "data": {
            "text/plain": [
              "-0.04296875"
            ]
          },
          "execution_count": 112,
          "metadata": {},
          "output_type": "execute_result"
        }
      ],
      "source": [
        "# hitung selisih cr treatment dengan cr control\n",
        "cr_treatment - cr_control"
      ]
    },
    {
      "cell_type": "code",
      "execution_count": null,
      "metadata": {
        "colab": {
          "base_uri": "https://localhost:8080/"
        },
        "id": "n_YbkksEaVEZ",
        "outputId": "05bb4859-a492-4289-f047-f8d13d77ba4d"
      },
      "outputs": [
        {
          "name": "stdout",
          "output_type": "stream",
          "text": [
            "relative effect = -8.66 %\n"
          ]
        }
      ],
      "source": [
        "# tambahan \n",
        "# Kita bisa hitung relative effect yang menunjukkan seberapa besar persentase peningkatan atau penurunan conversion rate treatment dibandingkan control\n",
        "relative_effect = (cr_treatment - cr_control)/cr_control * 100\n",
        "\n",
        "print(f\"relative effect = {relative_effect:.3} %\")"
      ]
    },
    {
      "cell_type": "markdown",
      "metadata": {
        "id": "fZUf_VaAOYWI"
      },
      "source": [
        "Menyimpulkan hasil uji statistik"
      ]
    },
    {
      "cell_type": "code",
      "execution_count": null,
      "metadata": {
        "colab": {
          "base_uri": "https://localhost:8080/"
        },
        "id": "Ek9ymGlJOe9C",
        "outputId": "6746b814-6361-4519-91f9-40db27d49b20"
      },
      "outputs": [
        {
          "name": "stdout",
          "output_type": "stream",
          "text": [
            "Gagal menolak H0\n"
          ]
        }
      ],
      "source": [
        "# dari p-value\n",
        "alpha = 0.05        # confidence level yang kita set\n",
        "\n",
        "# buat decision berdasarkan p_value dan alpha\n",
        "if p_value < alpha:\n",
        "    print(\"Tolak H0\")\n",
        "else:\n",
        "    print(\"Gagal menolak H0\")"
      ]
    },
    {
      "cell_type": "code",
      "execution_count": null,
      "metadata": {
        "colab": {
          "base_uri": "https://localhost:8080/"
        },
        "id": "HYnnSkpoOkjF",
        "outputId": "626db429-6de8-4574-86ad-a6050d9c8438"
      },
      "outputs": [
        {
          "data": {
            "text/plain": [
              "1.6448536269514722"
            ]
          },
          "execution_count": 110,
          "metadata": {},
          "output_type": "execute_result"
        }
      ],
      "source": [
        "# Z critical adalah z-value saat alpha\n",
        "z_critical = stats.norm.ppf(1 - alpha)\n",
        "\n",
        "z_critical"
      ]
    },
    {
      "cell_type": "code",
      "execution_count": null,
      "metadata": {
        "colab": {
          "base_uri": "https://localhost:8080/"
        },
        "id": "kOsg_3WHOmzj",
        "outputId": "017ae039-ab76-4bab-f1ce-81641d34a399"
      },
      "outputs": [
        {
          "name": "stdout",
          "output_type": "stream",
          "text": [
            "Gagal menolak H0\n"
          ]
        }
      ],
      "source": [
        "# Dari z-statistics\n",
        "# Buat decision berdasarkan z_critical dan alpha\n",
        "if z_stat > z_critical:\n",
        "    print(\"Tolak H0\")\n",
        "else:\n",
        "    print(\"Gagal menolak H0\")"
      ]
    },
    {
      "cell_type": "markdown",
      "metadata": {
        "id": "WBJ6WU2ASmwP"
      },
      "source": [
        "Berdasarkan hasil uji statistik didapatkan kesimpulan berikut.\n",
        "\n",
        "- p-value (0.8349) > alpha (0.05) → Gagal menolak H0\n",
        "- z-statistics (-0.9735) < z tabel (1.644) → Gagal menolak H0\n",
        "\n",
        "\n",
        "Interactive ad kurang dari atau sama dengan static ad. Dengan kata lain, interactive ad tidak meningkatkan conversion rate"
      ]
    },
    {
      "cell_type": "markdown",
      "metadata": {
        "id": "6vaau1PfkVRm"
      },
      "source": [
        "**Menghitung Confidence Interval**"
      ]
    },
    {
      "cell_type": "markdown",
      "metadata": {
        "id": "gIf6ylJ4iY32"
      },
      "source": [
        "Untuk menghitung confidence interval for proportion, kita dapat menggunakan statsmodels.stats.proportion.confint_proportions_2indep"
      ]
    },
    {
      "cell_type": "code",
      "execution_count": null,
      "metadata": {
        "colab": {
          "base_uri": "https://localhost:8080/"
        },
        "id": "qIX1uoRHieWH",
        "outputId": "8a896790-986a-4ede-f663-26c712b06561"
      },
      "outputs": [
        {
          "name": "stdout",
          "output_type": "stream",
          "text": [
            "(-0.12831107551047496, 0.043269634229198314)\n"
          ]
        }
      ],
      "source": [
        "# menghitung confidence interval\n",
        "confidence_interval = confint_proportions_2indep(count1 = n_treatment_convert, nobs1 = n_treatment,\n",
        "                                                 count2 = n_control_convert, nobs2 = n_control, \n",
        "                                                 compare='diff', alpha=0.05)\n",
        "print(confidence_interval)"
      ]
    },
    {
      "cell_type": "markdown",
      "metadata": {
        "id": "ccgKvTL5kN4f"
      },
      "source": [
        "Berdasarkan hasil perhitungan confidence interval, kita yakin 95% bahwa selisih user yang convert pada treatment variant dan control variant terletak antara -0.12  dan 0.04.\n",
        "\n",
        "Dengan kata lain penerapan interactive ads dapat menurunkan conversion rate sebesar -0.12 atau meningkatkan conversion rate sebesar 0.04"
      ]
    },
    {
      "cell_type": "markdown",
      "metadata": {
        "id": "3tdz9E_RzHKc"
      },
      "source": [
        "**Kesimpulan**"
      ]
    },
    {
      "cell_type": "markdown",
      "source": [
        "\n",
        "\n",
        "*   Hasil uji signifikansi menunjukkan hasil yang tidak signifikan baik melihat perbandingan z-statistik dengan z-critical ataupun p-value dengan alpha. Artinya eksperimen ini belum memiliki cukup bukti untuk mengatakan bahwa advertisement yang baru dapat meningkatkan conversion rate\n",
        "*   Besaran penurunan yang diestimasi menggunakan confidence interval kita yakin 95% bahwa selisih user yang convert pada treatment variant dan control variant terletak antara -0.12  dan 0.04.\n",
        "*   Selain tidak signifikan, penggunaan advertisement baru (interactive ad) dikhawatirkan dapat meningkatkan loading time (latency) atau error per page yang mana nantinya akan mengganggu conversion rate dalam mengisi kuesioner.\n",
        "* Eksperimen selanjutnya dapat melakukan A/B Testing lebih mendetail seperti contohnya melakukan A/B Testing berdasarkan browser atau jenis device untuk melihat kemungkinan penerapan interactive ads pada browser atau jenis device tertentu.\n",
        "\n"
      ],
      "metadata": {
        "id": "QtbBiBgnFJaj"
      }
    }
  ],
  "metadata": {
    "colab": {
      "provenance": []
    },
    "kernelspec": {
      "display_name": "Python 3",
      "name": "python3"
    },
    "language_info": {
      "name": "python"
    }
  },
  "nbformat": 4,
  "nbformat_minor": 0
}